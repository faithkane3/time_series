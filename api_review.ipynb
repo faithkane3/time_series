{
 "cells": [
  {
   "cell_type": "markdown",
   "metadata": {
    "toc": true
   },
   "source": [
    "<h1>Table of Contents<span class=\"tocSkip\"></span></h1>\n",
    "<div class=\"toc\"><ul class=\"toc-item\"><li><span><a href=\"#Time-Series-Data\" data-toc-modified-id=\"Time-Series-Data-1\"><span class=\"toc-item-num\">1&nbsp;&nbsp;</span>Time Series Data</a></span><ul class=\"toc-item\"><li><span><a href=\"#What-is-Time-Series-Data?\" data-toc-modified-id=\"What-is-Time-Series-Data?-1.1\"><span class=\"toc-item-num\">1.1&nbsp;&nbsp;</span><strong><font color=\"red\">What is Time Series Data?</font></strong></a></span></li><li><span><a href=\"#So-What?\" data-toc-modified-id=\"So-What?-1.2\"><span class=\"toc-item-num\">1.2&nbsp;&nbsp;</span><strong><font color=\"orange\">So What?</font></strong></a></span></li><li><span><a href=\"#Now-What?\" data-toc-modified-id=\"Now-What?-1.3\"><span class=\"toc-item-num\">1.3&nbsp;&nbsp;</span><strong><font color=\"green\">Now What?</font></strong></a></span></li></ul></li><li><span><a href=\"#Acquiring\" data-toc-modified-id=\"Acquiring-2\"><span class=\"toc-item-num\">2&nbsp;&nbsp;</span>Acquiring</a></span><ul class=\"toc-item\"><li><span><a href=\"#What-is-a-REST-API?\" data-toc-modified-id=\"What-is-a-REST-API?-2.1\"><span class=\"toc-item-num\">2.1&nbsp;&nbsp;</span><strong><font color=\"red\">What is a REST API?</font></strong></a></span></li><li><span><a href=\"#So-What?\" data-toc-modified-id=\"So-What?-2.2\"><span class=\"toc-item-num\">2.2&nbsp;&nbsp;</span><strong><font color=\"orange\">So What?</font></strong></a></span></li><li><span><a href=\"#Now-What?\" data-toc-modified-id=\"Now-What?-2.3\"><span class=\"toc-item-num\">2.3&nbsp;&nbsp;</span><strong><font color=\"green\">Now What?</font></strong></a></span></li><li><span><a href=\"#Acquire-a-DataFrame-by-Making-an-HTTP-Request\" data-toc-modified-id=\"Acquire-a-DataFrame-by-Making-an-HTTP-Request-2.4\"><span class=\"toc-item-num\">2.4&nbsp;&nbsp;</span><strong>Acquire a DataFrame by Making an HTTP Request</strong></a></span></li><li><span><a href=\"#Acquire-a-Time-Series-DataFrame-using-DataReader\" data-toc-modified-id=\"Acquire-a-Time-Series-DataFrame-using-DataReader-2.5\"><span class=\"toc-item-num\">2.5&nbsp;&nbsp;</span><strong>Acquire a Time Series DataFrame using DataReader</strong></a></span></li></ul></li><li><span><a href=\"#Preparing\" data-toc-modified-id=\"Preparing-3\"><span class=\"toc-item-num\">3&nbsp;&nbsp;</span>Preparing</a></span><ul class=\"toc-item\"><li><span><a href=\"#Coming-Soon!\" data-toc-modified-id=\"Coming-Soon!-3.1\"><span class=\"toc-item-num\">3.1&nbsp;&nbsp;</span><strong><font color=\"red\">Coming Soon!</font></strong></a></span><ul class=\"toc-item\"><li><span><a href=\"#Use-.loc()\" data-toc-modified-id=\"Use-.loc()-3.1.1\"><span class=\"toc-item-num\">3.1.1&nbsp;&nbsp;</span>Use <code>.loc()</code></a></span></li><li><span><a href=\"#Use-Date-Parts\" data-toc-modified-id=\"Use-Date-Parts-3.1.2\"><span class=\"toc-item-num\">3.1.2&nbsp;&nbsp;</span>Use Date Parts</a></span></li><li><span><a href=\"#Use-.assign()\" data-toc-modified-id=\"Use-.assign()-3.1.3\"><span class=\"toc-item-num\">3.1.3&nbsp;&nbsp;</span>Use <code>.assign()</code></a></span></li><li><span><a href=\"#Use-.diff()\" data-toc-modified-id=\"Use-.diff()-3.1.4\"><span class=\"toc-item-num\">3.1.4&nbsp;&nbsp;</span>Use <code>.diff()</code></a></span></li><li><span><a href=\"#Use-.resample()\" data-toc-modified-id=\"Use-.resample()-3.1.5\"><span class=\"toc-item-num\">3.1.5&nbsp;&nbsp;</span>Use <code>.resample()</code></a></span></li><li><span><a href=\"#Use-.shift()\" data-toc-modified-id=\"Use-.shift()-3.1.6\"><span class=\"toc-item-num\">3.1.6&nbsp;&nbsp;</span>Use <code>.shift()</code></a></span></li><li><span><a href=\"#Use-df.rolling()\" data-toc-modified-id=\"Use-df.rolling()-3.1.7\"><span class=\"toc-item-num\">3.1.7&nbsp;&nbsp;</span>Use <code>df.rolling()</code></a></span></li><li><span><a href=\"#Use-.expand()\" data-toc-modified-id=\"Use-.expand()-3.1.8\"><span class=\"toc-item-num\">3.1.8&nbsp;&nbsp;</span>Use <code>.expand()</code></a></span></li></ul></li></ul></li></ul></div>"
   ]
  },
  {
   "cell_type": "code",
   "execution_count": 1,
   "metadata": {},
   "outputs": [],
   "source": [
    "import pandas as pd\n",
    "import numpy as np\n",
    "\n",
    "import requests\n",
    "\n",
    "# This is a standard python library; I only need this to use json.dumps() to format the API doc\n",
    "import json\n",
    "\n",
    "import warnings\n",
    "warnings.filterwarnings(\"ignore\")"
   ]
  },
  {
   "cell_type": "markdown",
   "metadata": {},
   "source": [
    "<hr style=\"border-top: 10px groove cornflowerblue; margin-top: 1px; margin-bottom: 1px\"></hr>"
   ]
  },
  {
   "cell_type": "markdown",
   "metadata": {},
   "source": [
    "# Important Terms"
   ]
  },
  {
   "cell_type": "markdown",
   "metadata": {},
   "source": [
    "<hr style=\"border-top: 10px groove cornflowerblue; margin-top: 1px; margin-bottom: 1px\"></hr>"
   ]
  },
  {
   "cell_type": "markdown",
   "metadata": {},
   "source": [
    "**<font color=green>Here I'll build up some vocabulary around using REST APIs.</font>**\n",
    "\n",
    "I find it easier to understand larger concepts when I have an idea of the smaller pieces that make them up and have the technical vocabulary to speak and read about them. By now, you know that there is almost never one term for one thing in the tech field, and honestly many other fields, so when researching APIs be prepared for more of the same. Keeping that in mind, I will try to use the most common terms below as well as include their common synonyms.\n",
    "\n",
    "Below is more than you need to know to start playing with the `requests` python library, but it still barely scratches the surface! When you're ready for more, [Here is a crash course in REST API design](https://medium.com/hashmapinc/rest-good-practices-for-api-design-881439796dc9) that helps in understanding how to use them to request data."
   ]
  },
  {
   "cell_type": "markdown",
   "metadata": {},
   "source": [
    "___"
   ]
  },
  {
   "cell_type": "markdown",
   "metadata": {},
   "source": [
    "## **<font color=red>What is a Rest API?</font>**\n",
    "\n",
    "**API** stands for Application Programming Interface, and it is a set of rules that allows programs to communicate with each other. For my purposes, it will allow for communication between a client, my computer, and a server. I'm interested in using an API to acquire **resources or data sets** using **[requests](#requests) or URLs** combined with **[HTTP methods](#methods)**. "
   ]
  },
  {
   "cell_type": "markdown",
   "metadata": {},
   "source": [
    "**REST**, **RE**presentational **S**tate **T**ransfer, is an architectural style and approach to communications that uses HTTP requests to access and use data. It has a specific set of guiding constraints or rules that it follows, but those are deeper than I want to go here because I'm not building an API; I just want a solid foundation for acquiring data from an API.\n",
    "\n",
    "![REST API Architecture Image](https://miro.medium.com/max/1308/1*k4EeHKe993bASHtctK-qAw.jpeg)"
   ]
  },
  {
   "cell_type": "markdown",
   "metadata": {},
   "source": [
    "**JSON** stands for JavaScript Object Notation and is a language-independent text format that represents objects as name/value pairs (think Python dictionary objects) arrays (think Python list objects), strings, and integers.\n",
    "\n",
    "For example:\n",
    "\n",
    "![JSON](https://encrypted-tbn0.gstatic.com/images?q=tbn%3AANd9GcQGEZHyHVQQhV_7swid8CrLRpejYJa_9zVv6A&usqp=CAU)"
   ]
  },
  {
   "cell_type": "markdown",
   "metadata": {},
   "source": [
    "___"
   ]
  },
  {
   "cell_type": "markdown",
   "metadata": {},
   "source": [
    "## <font color=orange>So What?</font>\n",
    "\n",
    "**Putting It All Together**\n",
    "\n",
    "A **RESTful JSON API** uses requests with HTTP methods to **GET (retrieve a response object)**, **PUT (change the state of or update your response object)**, **POST (create the response object)**, and **DELETE (remove a response object)** data. It allows users to connect to, manage, and interact with cloud services.\n",
    "\n",
    "The `requests` module allows me to send HTTP requests to a REST API using python. The HTTP request to a RESTful JSON API returns a response object or resource with the data in JSON format. I can get a variety of information from this resource using different methods, some of which are explained in the table below in [Now What](#now)."
   ]
  },
  {
   "cell_type": "markdown",
   "metadata": {},
   "source": [
    "### TLDR\n",
    "\n",
    "**Endpoint == Where --> HTTP method == Action --> Resource == What**"
   ]
  },
  {
   "cell_type": "markdown",
   "metadata": {},
   "source": [
    "___"
   ]
  },
  {
   "cell_type": "markdown",
   "metadata": {},
   "source": [
    "<a id='requests'></a>"
   ]
  },
  {
   "cell_type": "markdown",
   "metadata": {},
   "source": [
    "### <font color=purple>Parts of a Request:</font>\n",
    "\n",
    "Requests are made up of four different parts, but this notebook will only dig into endpoints and methods. \n",
    "\n",
    "- [the endpoint](#endpoint) \n",
    "\n",
    "\n",
    "- [the method](#method)\n",
    "\n",
    "\n",
    "- the headers\n",
    "\n",
    "\n",
    "- the data (payload)"
   ]
  },
  {
   "cell_type": "markdown",
   "metadata": {},
   "source": [
    "___"
   ]
  },
  {
   "cell_type": "markdown",
   "metadata": {},
   "source": [
    "<a id='endpoint'></a>"
   ]
  },
  {
   "cell_type": "markdown",
   "metadata": {},
   "source": [
    "#### The Anatomy of an Endpoint\n",
    "\n",
    "Here, I will break down an example API url or endpoint into its individual components.\n",
    "\n",
    "**root-endpoint + the path + query parameters (optional)** \n",
    "\n",
    "The **root-endpoint** is the starting point of the API you are requesting from.\n",
    "\n",
    "```python\n",
    "# the root-endpoint\n",
    "\n",
    "https://api.github.com\n",
    "```\n",
    "\n",
    "The **path** directs your request and determines the resource you receive as a response to your GET request. The example below gets a list of repositories by a certain user, in this case `faithkane3`. The API documentation lets me know what paths are available to me.\n",
    "\n",
    "```python\n",
    "# the root-endpoint + the path\n",
    "\n",
    "https://api.github.com/users/faithkane3/repos\n",
    "```\n",
    "\n",
    "The **query parameters** allow you to modify your request with key-value pairs. They begin with a `?` and are separated with `&` when you chain more than one. I am using the `sort` parameter to return my repositories in order of my most recent pushes. *This will not return any information about the repos I own or push to in other organizations besides `faithkane3`.*\n",
    "\n",
    "```python\n",
    "# the root-endpoint + the path + query parameters\n",
    "\n",
    "https://api.github.com/users/faithkane3/repos?sort=pushed\n",
    "```"
   ]
  },
  {
   "cell_type": "markdown",
   "metadata": {},
   "source": [
    "___"
   ]
  },
  {
   "cell_type": "markdown",
   "metadata": {},
   "source": [
    "<a id='method'></a>"
   ]
  },
  {
   "cell_type": "markdown",
   "metadata": {},
   "source": [
    "#### The Method Options\n",
    "\n",
    "**The endopint indicates how I access the resource, and the method indicates the type of interaction my request will have with the resource -> CRUD (Create, Read, Update, Delete).**\n",
    "\n",
    "**GET** - A GET request performs a *READ* operation. A GET request to a server sends you back the data you requested.\n",
    "\n",
    "**POST** - A POST request performs a *CREATE* operation. \n",
    "\n",
    "**PUT** - A PUT request performs an *UPDATE* operation.\n",
    "\n",
    "**PATCH** - A PATCH request performs an *UPDATE* operation.\n",
    "\n",
    "**DELETE** - A DELETE request performs a *DELETE* operation.\n",
    "\n",
    "*In this notebook, I will only be using the HTTP GET method.*"
   ]
  },
  {
   "cell_type": "markdown",
   "metadata": {},
   "source": [
    "___"
   ]
  },
  {
   "cell_type": "markdown",
   "metadata": {},
   "source": [
    "<a id='now'></a>"
   ]
  },
  {
   "cell_type": "markdown",
   "metadata": {},
   "source": [
    "<a id='now'></a>\n",
    "### **<font color=green>Now What Do I Do With a Response Object?</font>**\n",
    "\n",
    "Properties and Methods of Response Objects (not an exhaustive list)\n",
    "\n",
    "| Property/Method | Description |\n",
    "| :--- | ----------- |\n",
    "| .content | Returns the response in bytes |\n",
    "| .json() | Returns a JSON object of the result if result in JSON format, otherwise raises an error |\n",
    "|.ok|Returns True if status_code is less than 200, otherwise False|\n",
    "|.request|Returns the request object that requested this response|\n",
    "|.status_code|Returns a number that indicates the status|\n",
    "|.text|Returns the content of the response, in unicode|\n",
    "|.url|Returns the URL of the response|"
   ]
  },
  {
   "cell_type": "markdown",
   "metadata": {},
   "source": [
    "___"
   ]
  },
  {
   "cell_type": "markdown",
   "metadata": {},
   "source": [
    "<hr style=\"border-top: 10px groove cornflowerblue; margin-top: 1px; margin-bottom: 1px\"></hr>"
   ]
  },
  {
   "cell_type": "markdown",
   "metadata": {},
   "source": [
    "## Acquire"
   ]
  },
  {
   "cell_type": "markdown",
   "metadata": {},
   "source": [
    "<hr style=\"border-top: 10px groove cornflowerblue; margin-top: 1px; margin-bottom: 1px\"></hr>"
   ]
  },
  {
   "cell_type": "markdown",
   "metadata": {},
   "source": [
    "[This article](https://www.smashingmagazine.com/2018/01/understanding-using-rest-api/) is housed in the Time Series Acquire Codeup Curriculum under Further Reading and was really helpful is helping me go through the following steps. Check it out."
   ]
  },
  {
   "cell_type": "markdown",
   "metadata": {},
   "source": [
    "**Reading the documentation provided by a site's API will tell you how to use it.**\n",
    "\n",
    "For example, what if I want to get information from GitHub's API? I can check out it's API documentation at the url below:\n",
    "```python\n",
    "https://docs.github.com/en/free-pro-team@latest/rest\n",
    "```"
   ]
  },
  {
   "cell_type": "markdown",
   "metadata": {},
   "source": [
    "**What if I wanted to get a list of repositories from a specific Github user?**\n",
    "\n",
    "![image.jpg](https://res.cloudinary.com/indysigner/image/fetch/f_auto,q_auto/w_2000/https://cloud.netlifyusercontent.com/assets/344dbf88-fdf9-42bb-adb4-46f01eedd629/c119c0b2-4ded-42d0-90f0-496b14bf5e1f/understanding-api-doc-github-repo-opt.png)\n",
    "[Source Article](https://www.smashingmagazine.com/2018/01/understanding-using-rest-api/) for the above table."
   ]
  },
  {
   "cell_type": "code",
   "execution_count": 2,
   "metadata": {},
   "outputs": [],
   "source": [
    "url = 'https://api.github.com/users/faithkane3/repos'\n",
    "response = requests.get(url)"
   ]
  },
  {
   "cell_type": "markdown",
   "metadata": {},
   "source": [
    "`.ok` returns a boolean communicating if the request was successful."
   ]
  },
  {
   "cell_type": "code",
   "execution_count": 3,
   "metadata": {},
   "outputs": [
    {
     "data": {
      "text/plain": [
       "True"
      ]
     },
     "execution_count": 3,
     "metadata": {},
     "output_type": "execute_result"
    }
   ],
   "source": [
    "response.ok"
   ]
  },
  {
   "cell_type": "markdown",
   "metadata": {},
   "source": [
    "`.status_code` returns the HTTP response status code."
   ]
  },
  {
   "cell_type": "code",
   "execution_count": 4,
   "metadata": {},
   "outputs": [
    {
     "data": {
      "text/plain": [
       "200"
      ]
     },
     "execution_count": 4,
     "metadata": {},
     "output_type": "execute_result"
    }
   ],
   "source": [
    "response.status_code"
   ]
  },
  {
   "cell_type": "markdown",
   "metadata": {},
   "source": [
    "**<font color=purple>HTTP Status Codes and Error Messages</font>**\n",
    "\n",
    ">200+ means the request has succeeded.\n",
    "\n",
    ">300+ means the request is redirected to another URL\n",
    "\n",
    ">400+ means an error that originates from the client has occurred\n",
    "\n",
    ">500+ means an error that originates from the server has occurred"
   ]
  },
  {
   "cell_type": "code",
   "execution_count": null,
   "metadata": {},
   "outputs": [],
   "source": []
  },
  {
   "cell_type": "markdown",
   "metadata": {},
   "source": [
    "___"
   ]
  },
  {
   "cell_type": "markdown",
   "metadata": {},
   "source": [
    "#### `.text`"
   ]
  },
  {
   "cell_type": "markdown",
   "metadata": {},
   "source": [
    "The `.text` attribute returns the raw response text from my response. It's returning a string with an array of key/pair values. In Python, I would recognize these as a list object with nested dictionary objects."
   ]
  },
  {
   "cell_type": "code",
   "execution_count": 5,
   "metadata": {},
   "outputs": [
    {
     "name": "stdout",
     "output_type": "stream",
     "text": [
      "<class 'str'>\n"
     ]
    },
    {
     "data": {
      "text/plain": [
       "'[{\"id\":206128554,\"node_id\":\"MDEwOlJlcG9zaXRvcnkyMDYxMjg1NTQ=\",\"name\":\"101-exercises\",\"full_name\":\"faithkane3/101-exercises\",\"private\":false,\"owner\":{\"login\":\"faithkane3\",\"id\":43799876,\"node_id\":\"MDQ6VXNlcjQzNzk5ODc2\",\"avatar_url\":\"https://avatars0.githubusercontent.com/u/43799876?v=4\",\"gravatar_id\":\"\",\"url\":\"https://api.github.com/users/faithkane3\",\"html_url\":\"https://github.com/faithkane3\",\"followers_url\":\"https://api.github.com/users/faithkane3/followers\",\"following_url\":\"https://api.github.co'"
      ]
     },
     "execution_count": 5,
     "metadata": {},
     "output_type": "execute_result"
    }
   ],
   "source": [
    "# I'm limiting the text string to 500 characters bc it's one long string!\n",
    "\n",
    "print(type(response.text))\n",
    "response.text[:500]"
   ]
  },
  {
   "cell_type": "markdown",
   "metadata": {},
   "source": [
    "___"
   ]
  },
  {
   "cell_type": "markdown",
   "metadata": {},
   "source": [
    "#### `.json()`"
   ]
  },
  {
   "cell_type": "markdown",
   "metadata": {},
   "source": [
    "I can use the `.json()` method on my response and access a list of dictionaries for all my Github repos. The response will not always be a list of dictionaries; it might be a dictionary. Just make sure you know what type of structure you are working with. \n",
    "\n",
    "For example:\n",
    "\n",
    "![List of Dictionaries Image](https://www.dataquest.io/wp-content/uploads/2019/09/json.svg)\n",
    "\n",
    "In this case, I find that there are 30 dictionaries in my list, which I have stored in the variable `data`."
   ]
  },
  {
   "cell_type": "code",
   "execution_count": 6,
   "metadata": {},
   "outputs": [],
   "source": [
    "data = response.json()"
   ]
  },
  {
   "cell_type": "code",
   "execution_count": 7,
   "metadata": {},
   "outputs": [
    {
     "name": "stdout",
     "output_type": "stream",
     "text": [
      "<class 'list'>\n"
     ]
    },
    {
     "data": {
      "text/plain": [
       "30"
      ]
     },
     "execution_count": 7,
     "metadata": {},
     "output_type": "execute_result"
    }
   ],
   "source": [
    "# My variable Data is a list holding 30 elements.\n",
    "\n",
    "print(type(data))\n",
    "len(data)"
   ]
  },
  {
   "cell_type": "code",
   "execution_count": 8,
   "metadata": {},
   "outputs": [
    {
     "data": {
      "text/plain": [
       "[{'id': 206128554,\n",
       "  'node_id': 'MDEwOlJlcG9zaXRvcnkyMDYxMjg1NTQ=',\n",
       "  'name': '101-exercises',\n",
       "  'full_name': 'faithkane3/101-exercises',\n",
       "  'private': False,\n",
       "  'owner': {'login': 'faithkane3',\n",
       "   'id': 43799876,\n",
       "   'node_id': 'MDQ6VXNlcjQzNzk5ODc2',\n",
       "   'avatar_url': 'https://avatars0.githubusercontent.com/u/43799876?v=4',\n",
       "   'gravatar_id': '',\n",
       "   'url': 'https://api.github.com/users/faithkane3',\n",
       "   'html_url': 'https://github.com/faithkane3',\n",
       "   'followers_url': 'https://api.github.com/users/faithkane3/followers',\n",
       "   'following_url': 'https://api.github.com/users/faithkane3/following{/other_user}',\n",
       "   'gists_url': 'https://api.github.com/users/faithkane3/gists{/gist_id}',\n",
       "   'starred_url': 'https://api.github.com/users/faithkane3/starred{/owner}{/repo}',\n",
       "   'subscriptions_url': 'https://api.github.com/users/faithkane3/subscriptions',\n",
       "   'organizations_url': 'https://api.github.com/users/faithkane3/orgs',\n",
       "   'repos_url': 'https://api.github.com/users/faithkane3/repos',\n",
       "   'events_url': 'https://api.github.com/users/faithkane3/events{/privacy}',\n",
       "   'received_events_url': 'https://api.github.com/users/faithkane3/received_events',\n",
       "   'type': 'User',\n",
       "   'site_admin': False},\n",
       "  'html_url': 'https://github.com/faithkane3/101-exercises',\n",
       "  'description': 'This is the repo for my 101-exercises from Kaggle',\n",
       "  'fork': False,\n",
       "  'url': 'https://api.github.com/repos/faithkane3/101-exercises',\n",
       "  'forks_url': 'https://api.github.com/repos/faithkane3/101-exercises/forks',\n",
       "  'keys_url': 'https://api.github.com/repos/faithkane3/101-exercises/keys{/key_id}',\n",
       "  'collaborators_url': 'https://api.github.com/repos/faithkane3/101-exercises/collaborators{/collaborator}',\n",
       "  'teams_url': 'https://api.github.com/repos/faithkane3/101-exercises/teams',\n",
       "  'hooks_url': 'https://api.github.com/repos/faithkane3/101-exercises/hooks',\n",
       "  'issue_events_url': 'https://api.github.com/repos/faithkane3/101-exercises/issues/events{/number}',\n",
       "  'events_url': 'https://api.github.com/repos/faithkane3/101-exercises/events',\n",
       "  'assignees_url': 'https://api.github.com/repos/faithkane3/101-exercises/assignees{/user}',\n",
       "  'branches_url': 'https://api.github.com/repos/faithkane3/101-exercises/branches{/branch}',\n",
       "  'tags_url': 'https://api.github.com/repos/faithkane3/101-exercises/tags',\n",
       "  'blobs_url': 'https://api.github.com/repos/faithkane3/101-exercises/git/blobs{/sha}',\n",
       "  'git_tags_url': 'https://api.github.com/repos/faithkane3/101-exercises/git/tags{/sha}',\n",
       "  'git_refs_url': 'https://api.github.com/repos/faithkane3/101-exercises/git/refs{/sha}',\n",
       "  'trees_url': 'https://api.github.com/repos/faithkane3/101-exercises/git/trees{/sha}',\n",
       "  'statuses_url': 'https://api.github.com/repos/faithkane3/101-exercises/statuses/{sha}',\n",
       "  'languages_url': 'https://api.github.com/repos/faithkane3/101-exercises/languages',\n",
       "  'stargazers_url': 'https://api.github.com/repos/faithkane3/101-exercises/stargazers',\n",
       "  'contributors_url': 'https://api.github.com/repos/faithkane3/101-exercises/contributors',\n",
       "  'subscribers_url': 'https://api.github.com/repos/faithkane3/101-exercises/subscribers',\n",
       "  'subscription_url': 'https://api.github.com/repos/faithkane3/101-exercises/subscription',\n",
       "  'commits_url': 'https://api.github.com/repos/faithkane3/101-exercises/commits{/sha}',\n",
       "  'git_commits_url': 'https://api.github.com/repos/faithkane3/101-exercises/git/commits{/sha}',\n",
       "  'comments_url': 'https://api.github.com/repos/faithkane3/101-exercises/comments{/number}',\n",
       "  'issue_comment_url': 'https://api.github.com/repos/faithkane3/101-exercises/issues/comments{/number}',\n",
       "  'contents_url': 'https://api.github.com/repos/faithkane3/101-exercises/contents/{+path}',\n",
       "  'compare_url': 'https://api.github.com/repos/faithkane3/101-exercises/compare/{base}...{head}',\n",
       "  'merges_url': 'https://api.github.com/repos/faithkane3/101-exercises/merges',\n",
       "  'archive_url': 'https://api.github.com/repos/faithkane3/101-exercises/{archive_format}{/ref}',\n",
       "  'downloads_url': 'https://api.github.com/repos/faithkane3/101-exercises/downloads',\n",
       "  'issues_url': 'https://api.github.com/repos/faithkane3/101-exercises/issues{/number}',\n",
       "  'pulls_url': 'https://api.github.com/repos/faithkane3/101-exercises/pulls{/number}',\n",
       "  'milestones_url': 'https://api.github.com/repos/faithkane3/101-exercises/milestones{/number}',\n",
       "  'notifications_url': 'https://api.github.com/repos/faithkane3/101-exercises/notifications{?since,all,participating}',\n",
       "  'labels_url': 'https://api.github.com/repos/faithkane3/101-exercises/labels{/name}',\n",
       "  'releases_url': 'https://api.github.com/repos/faithkane3/101-exercises/releases{/id}',\n",
       "  'deployments_url': 'https://api.github.com/repos/faithkane3/101-exercises/deployments',\n",
       "  'created_at': '2019-09-03T16:59:57Z',\n",
       "  'updated_at': '2019-09-03T17:13:33Z',\n",
       "  'pushed_at': '2019-09-03T17:13:31Z',\n",
       "  'git_url': 'git://github.com/faithkane3/101-exercises.git',\n",
       "  'ssh_url': 'git@github.com:faithkane3/101-exercises.git',\n",
       "  'clone_url': 'https://github.com/faithkane3/101-exercises.git',\n",
       "  'svn_url': 'https://github.com/faithkane3/101-exercises',\n",
       "  'homepage': None,\n",
       "  'size': 12,\n",
       "  'stargazers_count': 0,\n",
       "  'watchers_count': 0,\n",
       "  'language': 'Jupyter Notebook',\n",
       "  'has_issues': True,\n",
       "  'has_projects': True,\n",
       "  'has_downloads': True,\n",
       "  'has_wiki': True,\n",
       "  'has_pages': False,\n",
       "  'forks_count': 0,\n",
       "  'mirror_url': None,\n",
       "  'archived': False,\n",
       "  'disabled': False,\n",
       "  'open_issues_count': 0,\n",
       "  'license': None,\n",
       "  'forks': 0,\n",
       "  'open_issues': 0,\n",
       "  'watchers': 0,\n",
       "  'default_branch': 'master'}]"
      ]
     },
     "execution_count": 8,
     "metadata": {},
     "output_type": "execute_result"
    }
   ],
   "source": [
    "# I can take a look at the first element in my list; I see it's a dictionary.\n",
    "\n",
    "data[:1]"
   ]
  },
  {
   "cell_type": "code",
   "execution_count": 9,
   "metadata": {},
   "outputs": [
    {
     "name": "stdout",
     "output_type": "stream",
     "text": [
      "There are 73 key:item pairs in each dictionary in my list.\n",
      "\n"
     ]
    },
    {
     "data": {
      "text/plain": [
       "dict_keys(['id', 'node_id', 'name', 'full_name', 'private', 'owner', 'html_url', 'description', 'fork', 'url', 'forks_url', 'keys_url', 'collaborators_url', 'teams_url', 'hooks_url', 'issue_events_url', 'events_url', 'assignees_url', 'branches_url', 'tags_url', 'blobs_url', 'git_tags_url', 'git_refs_url', 'trees_url', 'statuses_url', 'languages_url', 'stargazers_url', 'contributors_url', 'subscribers_url', 'subscription_url', 'commits_url', 'git_commits_url', 'comments_url', 'issue_comment_url', 'contents_url', 'compare_url', 'merges_url', 'archive_url', 'downloads_url', 'issues_url', 'pulls_url', 'milestones_url', 'notifications_url', 'labels_url', 'releases_url', 'deployments_url', 'created_at', 'updated_at', 'pushed_at', 'git_url', 'ssh_url', 'clone_url', 'svn_url', 'homepage', 'size', 'stargazers_count', 'watchers_count', 'language', 'has_issues', 'has_projects', 'has_downloads', 'has_wiki', 'has_pages', 'forks_count', 'mirror_url', 'archived', 'disabled', 'open_issues_count', 'license', 'forks', 'open_issues', 'watchers', 'default_branch'])"
      ]
     },
     "execution_count": 9,
     "metadata": {},
     "output_type": "execute_result"
    }
   ],
   "source": [
    "# I can access the keys of the first dictionary to understand the format of each dictionary in my list\n",
    "\n",
    "print(f'There are {len(data[0])} key:item pairs in each dictionary in my list.\\n')\n",
    "data[0].keys()"
   ]
  },
  {
   "cell_type": "code",
   "execution_count": 10,
   "metadata": {},
   "outputs": [
    {
     "data": {
      "text/plain": [
       "['101-exercises',\n",
       " 'bayes-methodologies-exercises',\n",
       " 'checkbook_application',\n",
       " 'classification',\n",
       " 'codeup_review',\n",
       " 'database-exercises',\n",
       " 'ds-methodologies-exercises',\n",
       " 'faithkane3.github.io',\n",
       " 'flask_intro',\n",
       " 'git_warmup',\n",
       " 'intro-to-deep-learning-with-keras',\n",
       " 'karma_atm',\n",
       " 'makeovermonday',\n",
       " 'natural_language_processing',\n",
       " 'nlp',\n",
       " 'numpy-100',\n",
       " 'pandas',\n",
       " 'pandas_practice',\n",
       " 'python',\n",
       " 'python-exercises',\n",
       " 'python_101_ds',\n",
       " 'python_fun',\n",
       " 'regression',\n",
       " 'resources',\n",
       " 'side_projects',\n",
       " 'sql',\n",
       " 'sql_practice',\n",
       " 'statistics-exercises',\n",
       " 'time_series',\n",
       " 'zillow_project']"
      ]
     },
     "execution_count": 10,
     "metadata": {},
     "output_type": "execute_result"
    }
   ],
   "source": [
    "# I can get a list of the names of all of my repos on Github by returning the value for the key 'name' for each dictionary\n",
    "\n",
    "repo_list = [data[i]['name'] for i in range(len(data))]\n",
    "repo_list"
   ]
  },
  {
   "cell_type": "markdown",
   "metadata": {},
   "source": [
    "**OR I could just make it a pandas DataFrame! When I see a list of dictionaries, I see a DataFrame ready to happen.**"
   ]
  },
  {
   "cell_type": "code",
   "execution_count": 11,
   "metadata": {},
   "outputs": [
    {
     "data": {
      "text/html": [
       "<div>\n",
       "<style scoped>\n",
       "    .dataframe tbody tr th:only-of-type {\n",
       "        vertical-align: middle;\n",
       "    }\n",
       "\n",
       "    .dataframe tbody tr th {\n",
       "        vertical-align: top;\n",
       "    }\n",
       "\n",
       "    .dataframe thead th {\n",
       "        text-align: right;\n",
       "    }\n",
       "</style>\n",
       "<table border=\"1\" class=\"dataframe\">\n",
       "  <thead>\n",
       "    <tr style=\"text-align: right;\">\n",
       "      <th></th>\n",
       "      <th>id</th>\n",
       "      <th>node_id</th>\n",
       "      <th>name</th>\n",
       "      <th>full_name</th>\n",
       "      <th>private</th>\n",
       "      <th>owner</th>\n",
       "      <th>html_url</th>\n",
       "      <th>description</th>\n",
       "      <th>fork</th>\n",
       "      <th>url</th>\n",
       "      <th>...</th>\n",
       "      <th>forks_count</th>\n",
       "      <th>mirror_url</th>\n",
       "      <th>archived</th>\n",
       "      <th>disabled</th>\n",
       "      <th>open_issues_count</th>\n",
       "      <th>license</th>\n",
       "      <th>forks</th>\n",
       "      <th>open_issues</th>\n",
       "      <th>watchers</th>\n",
       "      <th>default_branch</th>\n",
       "    </tr>\n",
       "  </thead>\n",
       "  <tbody>\n",
       "    <tr>\n",
       "      <th>28</th>\n",
       "      <td>305362805</td>\n",
       "      <td>MDEwOlJlcG9zaXRvcnkzMDUzNjI4MDU=</td>\n",
       "      <td>time_series</td>\n",
       "      <td>faithkane3/time_series</td>\n",
       "      <td>False</td>\n",
       "      <td>{'login': 'faithkane3', 'id': 43799876, 'node_...</td>\n",
       "      <td>https://github.com/faithkane3/time_series</td>\n",
       "      <td>None</td>\n",
       "      <td>False</td>\n",
       "      <td>https://api.github.com/repos/faithkane3/time_s...</td>\n",
       "      <td>...</td>\n",
       "      <td>0</td>\n",
       "      <td>None</td>\n",
       "      <td>False</td>\n",
       "      <td>False</td>\n",
       "      <td>0</td>\n",
       "      <td>None</td>\n",
       "      <td>0</td>\n",
       "      <td>0</td>\n",
       "      <td>0</td>\n",
       "      <td>main</td>\n",
       "    </tr>\n",
       "    <tr>\n",
       "      <th>29</th>\n",
       "      <td>215862559</td>\n",
       "      <td>MDEwOlJlcG9zaXRvcnkyMTU4NjI1NTk=</td>\n",
       "      <td>zillow_project</td>\n",
       "      <td>faithkane3/zillow_project</td>\n",
       "      <td>False</td>\n",
       "      <td>{'login': 'faithkane3', 'id': 43799876, 'node_...</td>\n",
       "      <td>https://github.com/faithkane3/zillow_project</td>\n",
       "      <td>None</td>\n",
       "      <td>False</td>\n",
       "      <td>https://api.github.com/repos/faithkane3/zillow...</td>\n",
       "      <td>...</td>\n",
       "      <td>0</td>\n",
       "      <td>None</td>\n",
       "      <td>False</td>\n",
       "      <td>False</td>\n",
       "      <td>0</td>\n",
       "      <td>None</td>\n",
       "      <td>0</td>\n",
       "      <td>0</td>\n",
       "      <td>0</td>\n",
       "      <td>master</td>\n",
       "    </tr>\n",
       "  </tbody>\n",
       "</table>\n",
       "<p>2 rows × 73 columns</p>\n",
       "</div>"
      ],
      "text/plain": [
       "           id                           node_id            name  \\\n",
       "28  305362805  MDEwOlJlcG9zaXRvcnkzMDUzNjI4MDU=     time_series   \n",
       "29  215862559  MDEwOlJlcG9zaXRvcnkyMTU4NjI1NTk=  zillow_project   \n",
       "\n",
       "                    full_name  private  \\\n",
       "28     faithkane3/time_series    False   \n",
       "29  faithkane3/zillow_project    False   \n",
       "\n",
       "                                                owner  \\\n",
       "28  {'login': 'faithkane3', 'id': 43799876, 'node_...   \n",
       "29  {'login': 'faithkane3', 'id': 43799876, 'node_...   \n",
       "\n",
       "                                        html_url description   fork  \\\n",
       "28     https://github.com/faithkane3/time_series        None  False   \n",
       "29  https://github.com/faithkane3/zillow_project        None  False   \n",
       "\n",
       "                                                  url  ... forks_count  \\\n",
       "28  https://api.github.com/repos/faithkane3/time_s...  ...           0   \n",
       "29  https://api.github.com/repos/faithkane3/zillow...  ...           0   \n",
       "\n",
       "   mirror_url archived disabled open_issues_count license forks open_issues  \\\n",
       "28       None    False    False                 0    None     0           0   \n",
       "29       None    False    False                 0    None     0           0   \n",
       "\n",
       "   watchers default_branch  \n",
       "28        0           main  \n",
       "29        0         master  \n",
       "\n",
       "[2 rows x 73 columns]"
      ]
     },
     "execution_count": 11,
     "metadata": {},
     "output_type": "execute_result"
    }
   ],
   "source": [
    "repos_df = pd.DataFrame(data)\n",
    "repos_df.tail(2)"
   ]
  },
  {
   "cell_type": "code",
   "execution_count": 12,
   "metadata": {},
   "outputs": [
    {
     "data": {
      "text/plain": [
       "['101-exercises',\n",
       " 'bayes-methodologies-exercises',\n",
       " 'checkbook_application',\n",
       " 'classification',\n",
       " 'codeup_review',\n",
       " 'database-exercises',\n",
       " 'ds-methodologies-exercises',\n",
       " 'faithkane3.github.io',\n",
       " 'flask_intro',\n",
       " 'git_warmup',\n",
       " 'intro-to-deep-learning-with-keras',\n",
       " 'karma_atm',\n",
       " 'makeovermonday',\n",
       " 'natural_language_processing',\n",
       " 'nlp',\n",
       " 'numpy-100',\n",
       " 'pandas',\n",
       " 'pandas_practice',\n",
       " 'python',\n",
       " 'python-exercises',\n",
       " 'python_101_ds',\n",
       " 'python_fun',\n",
       " 'regression',\n",
       " 'resources',\n",
       " 'side_projects',\n",
       " 'sql',\n",
       " 'sql_practice',\n",
       " 'statistics-exercises',\n",
       " 'time_series',\n",
       " 'zillow_project']"
      ]
     },
     "execution_count": 12,
     "metadata": {},
     "output_type": "execute_result"
    }
   ],
   "source": [
    "repos_df.name.tolist()"
   ]
  },
  {
   "cell_type": "markdown",
   "metadata": {},
   "source": [
    "**How about a list of urls for my repos? Handy for scraping repos!**"
   ]
  },
  {
   "cell_type": "code",
   "execution_count": 17,
   "metadata": {},
   "outputs": [
    {
     "data": {
      "text/plain": [
       "['https://github.com/faithkane3/101-exercises',\n",
       " 'https://github.com/faithkane3/bayes-methodologies-exercises',\n",
       " 'https://github.com/faithkane3/checkbook_application',\n",
       " 'https://github.com/faithkane3/classification',\n",
       " 'https://github.com/faithkane3/codeup_review',\n",
       " 'https://github.com/faithkane3/database-exercises',\n",
       " 'https://github.com/faithkane3/ds-methodologies-exercises',\n",
       " 'https://github.com/faithkane3/faithkane3.github.io',\n",
       " 'https://github.com/faithkane3/flask_intro',\n",
       " 'https://github.com/faithkane3/git_warmup',\n",
       " 'https://github.com/faithkane3/intro-to-deep-learning-with-keras',\n",
       " 'https://github.com/faithkane3/karma_atm',\n",
       " 'https://github.com/faithkane3/makeovermonday',\n",
       " 'https://github.com/faithkane3/natural_language_processing',\n",
       " 'https://github.com/faithkane3/nlp',\n",
       " 'https://github.com/faithkane3/numpy-100',\n",
       " 'https://github.com/faithkane3/pandas',\n",
       " 'https://github.com/faithkane3/pandas_practice',\n",
       " 'https://github.com/faithkane3/python',\n",
       " 'https://github.com/faithkane3/python-exercises',\n",
       " 'https://github.com/faithkane3/python_101_ds',\n",
       " 'https://github.com/faithkane3/python_fun',\n",
       " 'https://github.com/faithkane3/regression',\n",
       " 'https://github.com/faithkane3/resources',\n",
       " 'https://github.com/faithkane3/side_projects',\n",
       " 'https://github.com/faithkane3/sql',\n",
       " 'https://github.com/faithkane3/sql_practice',\n",
       " 'https://github.com/faithkane3/statistics-exercises',\n",
       " 'https://github.com/faithkane3/time_series',\n",
       " 'https://github.com/faithkane3/zillow_project']"
      ]
     },
     "execution_count": 17,
     "metadata": {},
     "output_type": "execute_result"
    }
   ],
   "source": [
    "repos_df.html_url.tolist()"
   ]
  },
  {
   "cell_type": "markdown",
   "metadata": {},
   "source": [
    "___"
   ]
  },
  {
   "cell_type": "markdown",
   "metadata": {},
   "source": [
    "#### Using Params\n",
    "\n",
    "Remember above I stated above that some APIs allow for the addition of query parameters to modify my request? Well, GitHub does, and here is a simple example. I want to request the repo names for faithkane3, but this time I want my response to be sorted to start with the repo most recently pushed to and end with the least recent one pushed to. Check it out. This changes the order of my repo list from alphabetic, starting with numbers first, to order of pushes starting with most recent."
   ]
  },
  {
   "cell_type": "code",
   "execution_count": 16,
   "metadata": {},
   "outputs": [],
   "source": [
    "url = 'https://api.github.com/users/faithkane3/repos?sort=pushed'\n",
    "response = requests.get(url)"
   ]
  },
  {
   "cell_type": "code",
   "execution_count": 14,
   "metadata": {},
   "outputs": [],
   "source": [
    "data = response.json()"
   ]
  },
  {
   "cell_type": "code",
   "execution_count": 15,
   "metadata": {},
   "outputs": [
    {
     "data": {
      "text/plain": [
       "['time_series',\n",
       " 'nlp',\n",
       " 'python',\n",
       " 'regression',\n",
       " 'classification',\n",
       " 'pandas',\n",
       " 'ds-methodologies-exercises',\n",
       " 'faithkane3.github.io',\n",
       " 'sql',\n",
       " 'pandas_practice',\n",
       " 'zillow_project',\n",
       " 'codeup_review',\n",
       " 'makeovermonday',\n",
       " 'python-exercises',\n",
       " 'side_projects',\n",
       " 'flask_intro',\n",
       " 'intro-to-deep-learning-with-keras',\n",
       " 'natural_language_processing',\n",
       " 'python_fun',\n",
       " 'git_warmup',\n",
       " 'bayes-methodologies-exercises',\n",
       " 'statistics-exercises',\n",
       " 'resources',\n",
       " 'numpy-100',\n",
       " 'karma_atm',\n",
       " 'checkbook_application',\n",
       " 'database-exercises',\n",
       " 'sql_practice',\n",
       " '101-exercises',\n",
       " 'python_101_ds']"
      ]
     },
     "execution_count": 15,
     "metadata": {},
     "output_type": "execute_result"
    }
   ],
   "source": [
    "repo_list = [data[i]['name'] for i in range(len(data))]\n",
    "repo_list"
   ]
  },
  {
   "cell_type": "code",
   "execution_count": 18,
   "metadata": {},
   "outputs": [
    {
     "data": {
      "text/html": [
       "<div>\n",
       "<style scoped>\n",
       "    .dataframe tbody tr th:only-of-type {\n",
       "        vertical-align: middle;\n",
       "    }\n",
       "\n",
       "    .dataframe tbody tr th {\n",
       "        vertical-align: top;\n",
       "    }\n",
       "\n",
       "    .dataframe thead th {\n",
       "        text-align: right;\n",
       "    }\n",
       "</style>\n",
       "<table border=\"1\" class=\"dataframe\">\n",
       "  <thead>\n",
       "    <tr style=\"text-align: right;\">\n",
       "      <th></th>\n",
       "      <th>id</th>\n",
       "      <th>node_id</th>\n",
       "      <th>name</th>\n",
       "      <th>full_name</th>\n",
       "      <th>private</th>\n",
       "      <th>owner</th>\n",
       "      <th>html_url</th>\n",
       "      <th>description</th>\n",
       "      <th>fork</th>\n",
       "      <th>url</th>\n",
       "      <th>...</th>\n",
       "      <th>forks_count</th>\n",
       "      <th>mirror_url</th>\n",
       "      <th>archived</th>\n",
       "      <th>disabled</th>\n",
       "      <th>open_issues_count</th>\n",
       "      <th>license</th>\n",
       "      <th>forks</th>\n",
       "      <th>open_issues</th>\n",
       "      <th>watchers</th>\n",
       "      <th>default_branch</th>\n",
       "    </tr>\n",
       "  </thead>\n",
       "  <tbody>\n",
       "    <tr>\n",
       "      <th>0</th>\n",
       "      <td>305362805</td>\n",
       "      <td>MDEwOlJlcG9zaXRvcnkzMDUzNjI4MDU=</td>\n",
       "      <td>time_series</td>\n",
       "      <td>faithkane3/time_series</td>\n",
       "      <td>False</td>\n",
       "      <td>{'login': 'faithkane3', 'id': 43799876, 'node_...</td>\n",
       "      <td>https://github.com/faithkane3/time_series</td>\n",
       "      <td>None</td>\n",
       "      <td>False</td>\n",
       "      <td>https://api.github.com/repos/faithkane3/time_s...</td>\n",
       "      <td>...</td>\n",
       "      <td>0</td>\n",
       "      <td>None</td>\n",
       "      <td>False</td>\n",
       "      <td>False</td>\n",
       "      <td>0</td>\n",
       "      <td>None</td>\n",
       "      <td>0</td>\n",
       "      <td>0</td>\n",
       "      <td>0</td>\n",
       "      <td>main</td>\n",
       "    </tr>\n",
       "    <tr>\n",
       "      <th>1</th>\n",
       "      <td>305364528</td>\n",
       "      <td>MDEwOlJlcG9zaXRvcnkzMDUzNjQ1Mjg=</td>\n",
       "      <td>nlp</td>\n",
       "      <td>faithkane3/nlp</td>\n",
       "      <td>False</td>\n",
       "      <td>{'login': 'faithkane3', 'id': 43799876, 'node_...</td>\n",
       "      <td>https://github.com/faithkane3/nlp</td>\n",
       "      <td>None</td>\n",
       "      <td>False</td>\n",
       "      <td>https://api.github.com/repos/faithkane3/nlp</td>\n",
       "      <td>...</td>\n",
       "      <td>0</td>\n",
       "      <td>None</td>\n",
       "      <td>False</td>\n",
       "      <td>False</td>\n",
       "      <td>0</td>\n",
       "      <td>None</td>\n",
       "      <td>0</td>\n",
       "      <td>0</td>\n",
       "      <td>0</td>\n",
       "      <td>main</td>\n",
       "    </tr>\n",
       "  </tbody>\n",
       "</table>\n",
       "<p>2 rows × 73 columns</p>\n",
       "</div>"
      ],
      "text/plain": [
       "          id                           node_id         name  \\\n",
       "0  305362805  MDEwOlJlcG9zaXRvcnkzMDUzNjI4MDU=  time_series   \n",
       "1  305364528  MDEwOlJlcG9zaXRvcnkzMDUzNjQ1Mjg=          nlp   \n",
       "\n",
       "                full_name  private  \\\n",
       "0  faithkane3/time_series    False   \n",
       "1          faithkane3/nlp    False   \n",
       "\n",
       "                                               owner  \\\n",
       "0  {'login': 'faithkane3', 'id': 43799876, 'node_...   \n",
       "1  {'login': 'faithkane3', 'id': 43799876, 'node_...   \n",
       "\n",
       "                                    html_url description   fork  \\\n",
       "0  https://github.com/faithkane3/time_series        None  False   \n",
       "1          https://github.com/faithkane3/nlp        None  False   \n",
       "\n",
       "                                                 url  ... forks_count  \\\n",
       "0  https://api.github.com/repos/faithkane3/time_s...  ...           0   \n",
       "1        https://api.github.com/repos/faithkane3/nlp  ...           0   \n",
       "\n",
       "  mirror_url archived disabled open_issues_count license forks open_issues  \\\n",
       "0       None    False    False                 0    None     0           0   \n",
       "1       None    False    False                 0    None     0           0   \n",
       "\n",
       "  watchers default_branch  \n",
       "0        0           main  \n",
       "1        0           main  \n",
       "\n",
       "[2 rows x 73 columns]"
      ]
     },
     "execution_count": 18,
     "metadata": {},
     "output_type": "execute_result"
    }
   ],
   "source": [
    "repos_df = pd.DataFrame(data)\n",
    "repos_df.head(2)"
   ]
  },
  {
   "cell_type": "markdown",
   "metadata": {},
   "source": [
    "___"
   ]
  },
  {
   "cell_type": "markdown",
   "metadata": {},
   "source": [
    "### Want More Practice?\n",
    "\n",
    "[Here is a link](https://github.com/public-apis/public-apis) to a collection of free APIs you can practice with if you like. Remember that the key to getting the data you want from an API is carefully reading the documentation it provides, so you can navigate efficiently."
   ]
  }
 ],
 "metadata": {
  "kernelspec": {
   "display_name": "Python 3",
   "language": "python",
   "name": "python3"
  },
  "language_info": {
   "codemirror_mode": {
    "name": "ipython",
    "version": 3
   },
   "file_extension": ".py",
   "mimetype": "text/x-python",
   "name": "python",
   "nbconvert_exporter": "python",
   "pygments_lexer": "ipython3",
   "version": "3.7.4"
  },
  "toc": {
   "base_numbering": 1,
   "nav_menu": {},
   "number_sections": true,
   "sideBar": true,
   "skip_h1_title": true,
   "title_cell": "Table of Contents",
   "title_sidebar": "Contents",
   "toc_cell": true,
   "toc_position": {},
   "toc_section_display": true,
   "toc_window_display": true
  },
  "toc-autonumbering": false,
  "toc-showtags": false
 },
 "nbformat": 4,
 "nbformat_minor": 4
}
