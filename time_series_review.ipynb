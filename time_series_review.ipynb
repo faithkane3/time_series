{
 "cells": [
  {
   "cell_type": "markdown",
   "metadata": {
    "toc": true
   },
   "source": [
    "<h1>Table of Contents<span class=\"tocSkip\"></span></h1>\n",
    "<div class=\"toc\"><ul class=\"toc-item\"><li><span><a href=\"#Time-Series-Data\" data-toc-modified-id=\"Time-Series-Data-1\"><span class=\"toc-item-num\">1&nbsp;&nbsp;</span>Time Series Data</a></span><ul class=\"toc-item\"><li><span><a href=\"#What-is-Time-Series-Data?\" data-toc-modified-id=\"What-is-Time-Series-Data?-1.1\"><span class=\"toc-item-num\">1.1&nbsp;&nbsp;</span><strong><font color=\"red\">What is Time Series Data?</font></strong></a></span></li><li><span><a href=\"#So-What?\" data-toc-modified-id=\"So-What?-1.2\"><span class=\"toc-item-num\">1.2&nbsp;&nbsp;</span><strong><font color=\"orange\">So What?</font></strong></a></span></li><li><span><a href=\"#Now-What?\" data-toc-modified-id=\"Now-What?-1.3\"><span class=\"toc-item-num\">1.3&nbsp;&nbsp;</span><strong><font color=\"green\">Now What?</font></strong></a></span></li></ul></li><li><span><a href=\"#Acquiring\" data-toc-modified-id=\"Acquiring-2\"><span class=\"toc-item-num\">2&nbsp;&nbsp;</span>Acquiring</a></span><ul class=\"toc-item\"><li><span><a href=\"#What-is-a-REST-API?\" data-toc-modified-id=\"What-is-a-REST-API?-2.1\"><span class=\"toc-item-num\">2.1&nbsp;&nbsp;</span><strong><font color=\"red\">What is a REST API?</font></strong></a></span></li><li><span><a href=\"#So-What?\" data-toc-modified-id=\"So-What?-2.2\"><span class=\"toc-item-num\">2.2&nbsp;&nbsp;</span><strong><font color=\"orange\">So What?</font></strong></a></span></li><li><span><a href=\"#Now-What?\" data-toc-modified-id=\"Now-What?-2.3\"><span class=\"toc-item-num\">2.3&nbsp;&nbsp;</span><strong><font color=\"green\">Now What?</font></strong></a></span></li><li><span><a href=\"#Acquire-a-DataFrame-by-Making-an-HTTP-Request\" data-toc-modified-id=\"Acquire-a-DataFrame-by-Making-an-HTTP-Request-2.4\"><span class=\"toc-item-num\">2.4&nbsp;&nbsp;</span><strong>Acquire a DataFrame by Making an HTTP Request</strong></a></span></li><li><span><a href=\"#Acquire-a-Time-Series-DataFrame-using-DataReader\" data-toc-modified-id=\"Acquire-a-Time-Series-DataFrame-using-DataReader-2.5\"><span class=\"toc-item-num\">2.5&nbsp;&nbsp;</span><strong>Acquire a Time Series DataFrame using DataReader</strong></a></span></li></ul></li><li><span><a href=\"#Preparing\" data-toc-modified-id=\"Preparing-3\"><span class=\"toc-item-num\">3&nbsp;&nbsp;</span>Preparing</a></span><ul class=\"toc-item\"><li><span><a href=\"#Coming-Soon!\" data-toc-modified-id=\"Coming-Soon!-3.1\"><span class=\"toc-item-num\">3.1&nbsp;&nbsp;</span><strong><font color=\"red\">Coming Soon!</font></strong></a></span><ul class=\"toc-item\"><li><span><a href=\"#Use-.loc()\" data-toc-modified-id=\"Use-.loc()-3.1.1\"><span class=\"toc-item-num\">3.1.1&nbsp;&nbsp;</span>Use <code>.loc()</code></a></span></li><li><span><a href=\"#Use-Date-Parts\" data-toc-modified-id=\"Use-Date-Parts-3.1.2\"><span class=\"toc-item-num\">3.1.2&nbsp;&nbsp;</span>Use Date Parts</a></span></li><li><span><a href=\"#Use-.assign()\" data-toc-modified-id=\"Use-.assign()-3.1.3\"><span class=\"toc-item-num\">3.1.3&nbsp;&nbsp;</span>Use <code>.assign()</code></a></span></li><li><span><a href=\"#Use-.diff()\" data-toc-modified-id=\"Use-.diff()-3.1.4\"><span class=\"toc-item-num\">3.1.4&nbsp;&nbsp;</span>Use <code>.diff()</code></a></span></li><li><span><a href=\"#Use-.resample()\" data-toc-modified-id=\"Use-.resample()-3.1.5\"><span class=\"toc-item-num\">3.1.5&nbsp;&nbsp;</span>Use <code>.resample()</code></a></span></li><li><span><a href=\"#Use-.shift()\" data-toc-modified-id=\"Use-.shift()-3.1.6\"><span class=\"toc-item-num\">3.1.6&nbsp;&nbsp;</span>Use <code>.shift()</code></a></span></li><li><span><a href=\"#Use-df.rolling()\" data-toc-modified-id=\"Use-df.rolling()-3.1.7\"><span class=\"toc-item-num\">3.1.7&nbsp;&nbsp;</span>Use <code>df.rolling()</code></a></span></li><li><span><a href=\"#Use-.expand()\" data-toc-modified-id=\"Use-.expand()-3.1.8\"><span class=\"toc-item-num\">3.1.8&nbsp;&nbsp;</span>Use <code>.expand()</code></a></span></li></ul></li></ul></li></ul></div>"
   ]
  },
  {
   "cell_type": "code",
   "execution_count": 1,
   "metadata": {},
   "outputs": [
    {
     "name": "stderr",
     "output_type": "stream",
     "text": [
      "/usr/local/anaconda3/lib/python3.7/site-packages/pandas_datareader/compat/__init__.py:7: FutureWarning: pandas.util.testing is deprecated. Use the functions in the public API at pandas.testing instead.\n",
      "  from pandas.util.testing import assert_frame_equal\n"
     ]
    }
   ],
   "source": [
    "import pandas as pd\n",
    "import numpy as np\n",
    "\n",
    "import seaborn as sns\n",
    "import matplotlib.pyplot as plt\n",
    "\n",
    "plt.rc('figure', figsize=(11, 9))\n",
    "plt.rc('font', size=13)\n",
    "\n",
    "from pandas_datareader import data as web\n",
    "\n",
    "import warnings\n",
    "warnings.filterwarnings(\"ignore\")\n",
    "\n",
    "from ts_acquire import get_store_data, german_energy_csv\n",
    "from ts_prepare import numeric_hists"
   ]
  },
  {
   "cell_type": "markdown",
   "metadata": {},
   "source": [
    "## Time Series Data"
   ]
  },
  {
   "cell_type": "markdown",
   "metadata": {},
   "source": [
    "___"
   ]
  },
  {
   "cell_type": "markdown",
   "metadata": {},
   "source": [
    "### **<font color=red>What is Time Series Data?</font>**\n",
    "\n",
    "In Time Series Data, time is the primary axis. With Time Series, the data has a natural temporal ordering and measures how things change over equally-spaced increments of time like hourly, daily, weekly, quarterly, yearly, etc. You could think of Time Series data as logs; each new measurement or log is added to the collection of previous logs. The dataset grows as new logs come in. Working with time series data can be very complicated because you are basically tracking changes over time. Sometimes the rate of change holds steady in a variable, but other times it may not. [See Heteroskedasticity](http://www.statsmakemecry.com/smmctheblog/confusing-stats-terms-explained-heteroscedasticity-heteroske.html)."
   ]
  },
  {
   "cell_type": "markdown",
   "metadata": {},
   "source": [
    "___"
   ]
  },
  {
   "cell_type": "markdown",
   "metadata": {},
   "source": [
    "### **<font color=orange>So What?</font>**\n",
    "\n",
    "We have more and more apps in our lives that use Time Series Data to handle data that measures change over time. From smart thermostats to autonomous trading algorithms, time series databases are the 'fastest growing category of databases ([source](https://blog.timescale.com/blog/what-the-heck-is-time-series-data-and-why-do-i-need-a-time-series-database-dcf3b1b18563/))."
   ]
  },
  {
   "cell_type": "markdown",
   "metadata": {},
   "source": [
    "___"
   ]
  },
  {
   "cell_type": "markdown",
   "metadata": {},
   "source": [
    "### **<font color=green>Now What?</font>**\n",
    "\n",
    "I'll start by converting my DataFrame to a DatetimeIndex.\n",
    "\n",
    ">Importing data from a csv file as DatetimeIndex\n",
    "\n",
    "```python\n",
    "pd.read_csv(df, parse_dates=True, index_col='date').sort_index()\n",
    "```\n",
    "\n",
    ">Converting a dataframe with a string date column to one that has a DatetimeIndex.\n",
    "\n",
    "```python\n",
    "df['date'] = pd.to_datetime(df.date)\n",
    "\n",
    "df = df.set_index('date').sort_index()\n",
    "```\n",
    "\n",
    "If you have pandas 1.0.3, read [the doc](https://pandas.pydata.org/pandas-docs/stable/reference/api/pandas.DatetimeIndex.html#pandas.DatetimeIndex) on DatetimeIndex."
   ]
  },
  {
   "cell_type": "markdown",
   "metadata": {},
   "source": [
    "<hr style=\"border-top: 10px groove cornflowerblue; margin-top: 1px; margin-bottom: 1px\"></hr>"
   ]
  },
  {
   "cell_type": "markdown",
   "metadata": {},
   "source": [
    "## Acquire"
   ]
  },
  {
   "cell_type": "markdown",
   "metadata": {},
   "source": [
    "<hr style=\"border-top: 10px groove cornflowerblue; margin-top: 1px; margin-bottom: 1px\"></hr>"
   ]
  },
  {
   "cell_type": "markdown",
   "metadata": {},
   "source": [
    "**<font color=green>Here I'll look at a couple example methods for acquiring some data I can use to practice working with time series methods.</font>**"
   ]
  },
  {
   "cell_type": "markdown",
   "metadata": {},
   "source": [
    "### **<font color=red>What is a REST API?</font>**\n",
    "\n",
    "Here is more than you need to know to start playing with the `requests` python library, but it still barely scratches the surface!\n",
    "\n",
    "**API** stands for Application Programming Interface, and it is a set of rules that allows programs to talk to each other.\n",
    "\n",
    "**JSON** stands for JavaScript Object Notation and is a text format that is language independent and made up of name/value pairs. (like a Python dictionary object or other nested sequences)\n",
    "\n",
    "**REST** stands for **RE**presentational **S**tate **T**ransfer, which is an architectural style and approach to communications used in web service development. It can be thought of as the language of the internet."
   ]
  },
  {
   "cell_type": "markdown",
   "metadata": {},
   "source": [
    "___"
   ]
  },
  {
   "cell_type": "markdown",
   "metadata": {},
   "source": [
    "### **<font color=orange>So What?</font>**\n",
    "\n",
    "Basically, when I link to a **specific URL, a request**, I am able to get a piece of **data returned, a response**. \n",
    "\n",
    "A **RESTful JSON API** uses HTTP requests to **GET (retrieve a response object)**, **PUT (change the state of or update your response object)**, **POST (create the response object)**, and **DELETE (remove a response object)** data. It allows users to connect to, manage, and interact with cloud services.\n",
    "\n",
    "The `requests` module allows me to send HTTP requests to a REST API using python. The HTTP request to a RESTful JSON API returns a response object with the data in JSON format. I can get a variety of information from this response object using different methods, some of which are explained in the table below in 'Now What.'\n",
    "\n",
    "\n",
    "**<font color=purple>Parts of a Request:</font>**\n",
    "\n",
    "**The Endpoint or Route**\n",
    "\n",
    "**root-endpoint** is the starting point of the API you are requesting from.\n",
    "\n",
    ">`https://api.github.com`\n",
    "\n",
    "**path** directs your request and determines the resource you receive as a response to your GET request. The example below gets a list of repositories by a certain user, in this case `faithkane3`. The API documentation lets me know what paths are available to me.\n",
    "\n",
    ">`https://api.github.com/users/faithkane3/repos`\n",
    "\n",
    "**query parameters** allow you to modify your request with key-value pairs. They begin with a `?` and are separated with `&` when you chain more than one. I am using the `sort` parameter to return my repositories in order of my most recent pushes. *This will not return any information about the repos I own or push to in other organizations besides `faithkane3`.*\n",
    "\n",
    ">`https://api.github.com/users/faithkane3/repos?sort=pushed`\n",
    "\n",
    "![image.jpg](https://res.cloudinary.com/indysigner/image/fetch/f_auto,q_auto/w_2000/https://cloud.netlifyusercontent.com/assets/344dbf88-fdf9-42bb-adb4-46f01eedd629/c119c0b2-4ded-42d0-90f0-496b14bf5e1f/understanding-api-doc-github-repo-opt.png)\n",
    "[source](https://www.smashingmagazine.com/2018/01/understanding-using-rest-api/)\n",
    "\n",
    "**The Method or Type of Request** CRUD (Create, Read, Update, Delete)\n",
    "\n",
    "**GET** - A GET request performs a READ operation. A GET request to a server sends you back the data you requested.\n",
    "\n",
    "**POST** - A POST request performs a CREATE operation. \n",
    "\n",
    "**PUT** - A PUT request performs an UPDATE operation.\n",
    "\n",
    "**PATCH** - A PATCH request performs an UPDATE operation.\n",
    "\n",
    "**DELETE** - A DELETE request performs a DELETE operation"
   ]
  },
  {
   "cell_type": "markdown",
   "metadata": {},
   "source": [
    "___"
   ]
  },
  {
   "cell_type": "markdown",
   "metadata": {},
   "source": [
    "### **<font color=green>Now What?</font>**\n",
    "\n",
    "**Properties and Methods of response objects (not an exhaustive list)**\n",
    "\n",
    "| Property/Method | Description |\n",
    "| :--- | ----------- |\n",
    "| .content | Returns the response in bytes |\n",
    "| .json() | Returns a JSON object of the result if result in JSON format, otherwise raises an error |\n",
    "|.ok|Returns True if status_code is less than 200, otherwise False|\n",
    "|.request|Returns the request object that requested this response|\n",
    "|.status_code|Returns a number that indicates the status|\n",
    "|.text|Returns the content of the response, in unicode|\n",
    "|.url|Returns the URL of the response|"
   ]
  },
  {
   "cell_type": "markdown",
   "metadata": {},
   "source": [
    "___"
   ]
  },
  {
   "cell_type": "markdown",
   "metadata": {},
   "source": [
    "### **Acquire a DataFrame by Making an HTTP Request**"
   ]
  },
  {
   "cell_type": "markdown",
   "metadata": {},
   "source": [
    "**<font color=purple>What if I wanted to get a list of repositories from a Github user?</font>**"
   ]
  },
  {
   "cell_type": "code",
   "execution_count": 2,
   "metadata": {},
   "outputs": [],
   "source": [
    "import requests\n",
    "\n",
    "url = 'https://api.github.com/users/faithkane3/repos?sort=pushed'\n",
    "response = requests.get(url)"
   ]
  },
  {
   "cell_type": "markdown",
   "metadata": {},
   "source": [
    "`.ok` returns a boolean communicating if the request was successful."
   ]
  },
  {
   "cell_type": "code",
   "execution_count": 3,
   "metadata": {},
   "outputs": [
    {
     "data": {
      "text/plain": [
       "True"
      ]
     },
     "execution_count": 3,
     "metadata": {},
     "output_type": "execute_result"
    }
   ],
   "source": [
    "response.ok"
   ]
  },
  {
   "cell_type": "markdown",
   "metadata": {},
   "source": [
    "`.status_code` returns the HTTP response status code."
   ]
  },
  {
   "cell_type": "code",
   "execution_count": 4,
   "metadata": {},
   "outputs": [
    {
     "data": {
      "text/plain": [
       "200"
      ]
     },
     "execution_count": 4,
     "metadata": {},
     "output_type": "execute_result"
    }
   ],
   "source": [
    "response.status_code"
   ]
  },
  {
   "cell_type": "markdown",
   "metadata": {},
   "source": [
    "**<font color=purple>HTTP Status Codes and Error Messages</font>**\n",
    "\n",
    ">200+ means the request has succeeded.\n",
    "\n",
    ">300+ means the request is redirected to another URL\n",
    "\n",
    ">400+ means an error that originates from the client has occurred\n",
    "\n",
    ">500+ means an error that originates from the server has occurred"
   ]
  },
  {
   "cell_type": "markdown",
   "metadata": {},
   "source": [
    "___"
   ]
  },
  {
   "cell_type": "markdown",
   "metadata": {},
   "source": [
    "`.text` returns the raw response text"
   ]
  },
  {
   "cell_type": "code",
   "execution_count": 5,
   "metadata": {},
   "outputs": [
    {
     "name": "stdout",
     "output_type": "stream",
     "text": [
      "<class 'str'>\n"
     ]
    },
    {
     "data": {
      "text/plain": [
       "'[{\"id\":305364528,\"node_id\":\"MDEwOlJlcG9zaXRvcnkzMDUzNjQ1Mjg=\",\"name\":\"nlp\",\"full_name\":\"faithkane3/nlp\",\"private\":false,\"owner\":{\"login\":\"faithkane3\",\"id\":43799876,\"node_id\":\"MDQ6VXNlcjQzNzk5ODc2\",\"avatar_url\":\"https://avatars0.githubusercontent.com/u/43799876?v=4\",\"gravatar_id\":\"\",\"url\":\"https://api.github.com/users/faithkane3\",\"html_url\":\"https://github.com/faithkane3\",\"followers_url\":\"https://api.github.com/users/faithkane3/followers\",\"following_url\":\"https://api.github.com/users/faithkane3/f'"
      ]
     },
     "execution_count": 5,
     "metadata": {},
     "output_type": "execute_result"
    }
   ],
   "source": [
    "# I'm limiting the text string to 500 characters bc it's one long string!\n",
    "\n",
    "print(type(response.text))\n",
    "response.text[:500]"
   ]
  },
  {
   "cell_type": "markdown",
   "metadata": {},
   "source": [
    "I can use the `.json()` method on my response and access a list of dictionaries for all my Github repos. The response will not always be a list of dictionaries; it might be a dictionary. Just make sure you know what type of structure you are working with. In this case, I find that there are 23 dictionaries in my list, `data`."
   ]
  },
  {
   "cell_type": "code",
   "execution_count": 6,
   "metadata": {},
   "outputs": [
    {
     "name": "stdout",
     "output_type": "stream",
     "text": [
      "<class 'list'>\n"
     ]
    },
    {
     "data": {
      "text/plain": [
       "30"
      ]
     },
     "execution_count": 6,
     "metadata": {},
     "output_type": "execute_result"
    }
   ],
   "source": [
    "data = response.json()\n",
    "print(type(data))\n",
    "len(data)"
   ]
  },
  {
   "cell_type": "code",
   "execution_count": 7,
   "metadata": {},
   "outputs": [
    {
     "data": {
      "text/plain": [
       "dict_keys(['id', 'node_id', 'name', 'full_name', 'private', 'owner', 'html_url', 'description', 'fork', 'url', 'forks_url', 'keys_url', 'collaborators_url', 'teams_url', 'hooks_url', 'issue_events_url', 'events_url', 'assignees_url', 'branches_url', 'tags_url', 'blobs_url', 'git_tags_url', 'git_refs_url', 'trees_url', 'statuses_url', 'languages_url', 'stargazers_url', 'contributors_url', 'subscribers_url', 'subscription_url', 'commits_url', 'git_commits_url', 'comments_url', 'issue_comment_url', 'contents_url', 'compare_url', 'merges_url', 'archive_url', 'downloads_url', 'issues_url', 'pulls_url', 'milestones_url', 'notifications_url', 'labels_url', 'releases_url', 'deployments_url', 'created_at', 'updated_at', 'pushed_at', 'git_url', 'ssh_url', 'clone_url', 'svn_url', 'homepage', 'size', 'stargazers_count', 'watchers_count', 'language', 'has_issues', 'has_projects', 'has_downloads', 'has_wiki', 'has_pages', 'forks_count', 'mirror_url', 'archived', 'disabled', 'open_issues_count', 'license', 'forks', 'open_issues', 'watchers', 'default_branch'])"
      ]
     },
     "execution_count": 7,
     "metadata": {},
     "output_type": "execute_result"
    }
   ],
   "source": [
    "# Access the keys of the first dictionary to understand the format of each dictionary in my list\n",
    "\n",
    "data[0].keys()"
   ]
  },
  {
   "cell_type": "code",
   "execution_count": 8,
   "metadata": {},
   "outputs": [
    {
     "name": "stdout",
     "output_type": "stream",
     "text": [
      "['nlp', 'time_series', 'python', 'regression', 'classification', 'pandas', 'ds-methodologies-exercises', 'faithkane3.github.io', 'sql', 'pandas_practice', 'zillow_project', 'codeup_review', 'makeovermonday', 'python-exercises', 'side_projects', 'flask_intro', 'intro-to-deep-learning-with-keras', 'natural_language_processing', 'python_fun', 'git_warmup', 'bayes-methodologies-exercises', 'statistics-exercises', 'resources', 'numpy-100', 'karma_atm', 'checkbook_application', 'database-exercises', 'sql_practice', '101-exercises', 'python_101_ds']\n"
     ]
    }
   ],
   "source": [
    "# get a list of the names of all of my repos on Github\n",
    "\n",
    "repos = []\n",
    "for i in range(len(data)):\n",
    "    repos.append(data[i]['name'])\n",
    "print(repos)"
   ]
  },
  {
   "cell_type": "markdown",
   "metadata": {},
   "source": [
    "___"
   ]
  },
  {
   "cell_type": "markdown",
   "metadata": {},
   "source": [
    "**OR I could just make it a pandas DataFrame!**"
   ]
  },
  {
   "cell_type": "code",
   "execution_count": 9,
   "metadata": {},
   "outputs": [
    {
     "data": {
      "text/html": [
       "<div>\n",
       "<style scoped>\n",
       "    .dataframe tbody tr th:only-of-type {\n",
       "        vertical-align: middle;\n",
       "    }\n",
       "\n",
       "    .dataframe tbody tr th {\n",
       "        vertical-align: top;\n",
       "    }\n",
       "\n",
       "    .dataframe thead th {\n",
       "        text-align: right;\n",
       "    }\n",
       "</style>\n",
       "<table border=\"1\" class=\"dataframe\">\n",
       "  <thead>\n",
       "    <tr style=\"text-align: right;\">\n",
       "      <th></th>\n",
       "      <th>id</th>\n",
       "      <th>node_id</th>\n",
       "      <th>name</th>\n",
       "      <th>full_name</th>\n",
       "      <th>private</th>\n",
       "      <th>owner</th>\n",
       "      <th>html_url</th>\n",
       "      <th>description</th>\n",
       "      <th>fork</th>\n",
       "      <th>url</th>\n",
       "      <th>...</th>\n",
       "      <th>forks_count</th>\n",
       "      <th>mirror_url</th>\n",
       "      <th>archived</th>\n",
       "      <th>disabled</th>\n",
       "      <th>open_issues_count</th>\n",
       "      <th>license</th>\n",
       "      <th>forks</th>\n",
       "      <th>open_issues</th>\n",
       "      <th>watchers</th>\n",
       "      <th>default_branch</th>\n",
       "    </tr>\n",
       "  </thead>\n",
       "  <tbody>\n",
       "    <tr>\n",
       "      <th>0</th>\n",
       "      <td>305364528</td>\n",
       "      <td>MDEwOlJlcG9zaXRvcnkzMDUzNjQ1Mjg=</td>\n",
       "      <td>nlp</td>\n",
       "      <td>faithkane3/nlp</td>\n",
       "      <td>False</td>\n",
       "      <td>{'login': 'faithkane3', 'id': 43799876, 'node_...</td>\n",
       "      <td>https://github.com/faithkane3/nlp</td>\n",
       "      <td>None</td>\n",
       "      <td>False</td>\n",
       "      <td>https://api.github.com/repos/faithkane3/nlp</td>\n",
       "      <td>...</td>\n",
       "      <td>0</td>\n",
       "      <td>None</td>\n",
       "      <td>False</td>\n",
       "      <td>False</td>\n",
       "      <td>0</td>\n",
       "      <td>None</td>\n",
       "      <td>0</td>\n",
       "      <td>0</td>\n",
       "      <td>0</td>\n",
       "      <td>main</td>\n",
       "    </tr>\n",
       "    <tr>\n",
       "      <th>1</th>\n",
       "      <td>305362805</td>\n",
       "      <td>MDEwOlJlcG9zaXRvcnkzMDUzNjI4MDU=</td>\n",
       "      <td>time_series</td>\n",
       "      <td>faithkane3/time_series</td>\n",
       "      <td>False</td>\n",
       "      <td>{'login': 'faithkane3', 'id': 43799876, 'node_...</td>\n",
       "      <td>https://github.com/faithkane3/time_series</td>\n",
       "      <td>None</td>\n",
       "      <td>False</td>\n",
       "      <td>https://api.github.com/repos/faithkane3/time_s...</td>\n",
       "      <td>...</td>\n",
       "      <td>0</td>\n",
       "      <td>None</td>\n",
       "      <td>False</td>\n",
       "      <td>False</td>\n",
       "      <td>0</td>\n",
       "      <td>None</td>\n",
       "      <td>0</td>\n",
       "      <td>0</td>\n",
       "      <td>0</td>\n",
       "      <td>main</td>\n",
       "    </tr>\n",
       "  </tbody>\n",
       "</table>\n",
       "<p>2 rows × 73 columns</p>\n",
       "</div>"
      ],
      "text/plain": [
       "          id                           node_id         name  \\\n",
       "0  305364528  MDEwOlJlcG9zaXRvcnkzMDUzNjQ1Mjg=          nlp   \n",
       "1  305362805  MDEwOlJlcG9zaXRvcnkzMDUzNjI4MDU=  time_series   \n",
       "\n",
       "                full_name  private  \\\n",
       "0          faithkane3/nlp    False   \n",
       "1  faithkane3/time_series    False   \n",
       "\n",
       "                                               owner  \\\n",
       "0  {'login': 'faithkane3', 'id': 43799876, 'node_...   \n",
       "1  {'login': 'faithkane3', 'id': 43799876, 'node_...   \n",
       "\n",
       "                                    html_url description   fork  \\\n",
       "0          https://github.com/faithkane3/nlp        None  False   \n",
       "1  https://github.com/faithkane3/time_series        None  False   \n",
       "\n",
       "                                                 url  ... forks_count  \\\n",
       "0        https://api.github.com/repos/faithkane3/nlp  ...           0   \n",
       "1  https://api.github.com/repos/faithkane3/time_s...  ...           0   \n",
       "\n",
       "  mirror_url archived disabled open_issues_count license forks open_issues  \\\n",
       "0       None    False    False                 0    None     0           0   \n",
       "1       None    False    False                 0    None     0           0   \n",
       "\n",
       "  watchers default_branch  \n",
       "0        0           main  \n",
       "1        0           main  \n",
       "\n",
       "[2 rows x 73 columns]"
      ]
     },
     "execution_count": 9,
     "metadata": {},
     "output_type": "execute_result"
    }
   ],
   "source": [
    "repos_df = pd.DataFrame(data)\n",
    "repos_df.head(2)"
   ]
  },
  {
   "cell_type": "code",
   "execution_count": 10,
   "metadata": {},
   "outputs": [
    {
     "data": {
      "text/plain": [
       "['nlp',\n",
       " 'time_series',\n",
       " 'python',\n",
       " 'regression',\n",
       " 'classification',\n",
       " 'pandas',\n",
       " 'ds-methodologies-exercises',\n",
       " 'faithkane3.github.io',\n",
       " 'sql',\n",
       " 'pandas_practice',\n",
       " 'zillow_project',\n",
       " 'codeup_review',\n",
       " 'makeovermonday',\n",
       " 'python-exercises',\n",
       " 'side_projects',\n",
       " 'flask_intro',\n",
       " 'intro-to-deep-learning-with-keras',\n",
       " 'natural_language_processing',\n",
       " 'python_fun',\n",
       " 'git_warmup',\n",
       " 'bayes-methodologies-exercises',\n",
       " 'statistics-exercises',\n",
       " 'resources',\n",
       " 'numpy-100',\n",
       " 'karma_atm',\n",
       " 'checkbook_application',\n",
       " 'database-exercises',\n",
       " 'sql_practice',\n",
       " '101-exercises',\n",
       " 'python_101_ds']"
      ]
     },
     "execution_count": 10,
     "metadata": {},
     "output_type": "execute_result"
    }
   ],
   "source": [
    "repos_df.name.tolist()"
   ]
  },
  {
   "cell_type": "markdown",
   "metadata": {},
   "source": [
    "**How about a list of urls for my repos? Handy for scraping repos!**"
   ]
  },
  {
   "cell_type": "code",
   "execution_count": 11,
   "metadata": {},
   "outputs": [
    {
     "data": {
      "text/plain": [
       "['https://github.com/faithkane3/nlp',\n",
       " 'https://github.com/faithkane3/time_series',\n",
       " 'https://github.com/faithkane3/python',\n",
       " 'https://github.com/faithkane3/regression',\n",
       " 'https://github.com/faithkane3/classification',\n",
       " 'https://github.com/faithkane3/pandas',\n",
       " 'https://github.com/faithkane3/ds-methodologies-exercises',\n",
       " 'https://github.com/faithkane3/faithkane3.github.io',\n",
       " 'https://github.com/faithkane3/sql',\n",
       " 'https://github.com/faithkane3/pandas_practice',\n",
       " 'https://github.com/faithkane3/zillow_project',\n",
       " 'https://github.com/faithkane3/codeup_review',\n",
       " 'https://github.com/faithkane3/makeovermonday',\n",
       " 'https://github.com/faithkane3/python-exercises',\n",
       " 'https://github.com/faithkane3/side_projects',\n",
       " 'https://github.com/faithkane3/flask_intro',\n",
       " 'https://github.com/faithkane3/intro-to-deep-learning-with-keras',\n",
       " 'https://github.com/faithkane3/natural_language_processing',\n",
       " 'https://github.com/faithkane3/python_fun',\n",
       " 'https://github.com/faithkane3/git_warmup',\n",
       " 'https://github.com/faithkane3/bayes-methodologies-exercises',\n",
       " 'https://github.com/faithkane3/statistics-exercises',\n",
       " 'https://github.com/faithkane3/resources',\n",
       " 'https://github.com/faithkane3/numpy-100',\n",
       " 'https://github.com/faithkane3/karma_atm',\n",
       " 'https://github.com/faithkane3/checkbook_application',\n",
       " 'https://github.com/faithkane3/database-exercises',\n",
       " 'https://github.com/faithkane3/sql_practice',\n",
       " 'https://github.com/faithkane3/101-exercises',\n",
       " 'https://github.com/faithkane3/python_101_ds']"
      ]
     },
     "execution_count": 11,
     "metadata": {},
     "output_type": "execute_result"
    }
   ],
   "source": [
    "repos_df.html_url.tolist()"
   ]
  },
  {
   "cell_type": "markdown",
   "metadata": {},
   "source": [
    "___"
   ]
  },
  {
   "cell_type": "markdown",
   "metadata": {},
   "source": [
    "### **Acquire a Time Series DataFrame using DataReader**\n",
    "\n",
    "pandas_datareader is an API that allows me to access stock price and volume. This can provide some cool time series data to play around with.\n",
    "\n",
    "`web.DataReader(name= , data_source= , start= , end= )`"
   ]
  },
  {
   "cell_type": "code",
   "execution_count": 12,
   "metadata": {},
   "outputs": [],
   "source": [
    "df = web.DataReader(name='MSFT', data_source='yahoo', start = '2015-01-01', end='2020-12-31')"
   ]
  },
  {
   "cell_type": "code",
   "execution_count": 13,
   "metadata": {},
   "outputs": [],
   "source": [
    "df = df.sort_index()"
   ]
  },
  {
   "cell_type": "code",
   "execution_count": 14,
   "metadata": {},
   "outputs": [
    {
     "data": {
      "text/html": [
       "<div>\n",
       "<style scoped>\n",
       "    .dataframe tbody tr th:only-of-type {\n",
       "        vertical-align: middle;\n",
       "    }\n",
       "\n",
       "    .dataframe tbody tr th {\n",
       "        vertical-align: top;\n",
       "    }\n",
       "\n",
       "    .dataframe thead th {\n",
       "        text-align: right;\n",
       "    }\n",
       "</style>\n",
       "<table border=\"1\" class=\"dataframe\">\n",
       "  <thead>\n",
       "    <tr style=\"text-align: right;\">\n",
       "      <th></th>\n",
       "      <th>High</th>\n",
       "      <th>Low</th>\n",
       "      <th>Open</th>\n",
       "      <th>Close</th>\n",
       "      <th>Volume</th>\n",
       "      <th>Adj Close</th>\n",
       "    </tr>\n",
       "    <tr>\n",
       "      <th>Date</th>\n",
       "      <th></th>\n",
       "      <th></th>\n",
       "      <th></th>\n",
       "      <th></th>\n",
       "      <th></th>\n",
       "      <th></th>\n",
       "    </tr>\n",
       "  </thead>\n",
       "  <tbody>\n",
       "    <tr>\n",
       "      <th>2015-01-02</th>\n",
       "      <td>47.419998</td>\n",
       "      <td>46.540001</td>\n",
       "      <td>46.660000</td>\n",
       "      <td>46.759998</td>\n",
       "      <td>27913900.0</td>\n",
       "      <td>41.647892</td>\n",
       "    </tr>\n",
       "    <tr>\n",
       "      <th>2015-01-05</th>\n",
       "      <td>46.730000</td>\n",
       "      <td>46.250000</td>\n",
       "      <td>46.369999</td>\n",
       "      <td>46.330002</td>\n",
       "      <td>39673900.0</td>\n",
       "      <td>41.264908</td>\n",
       "    </tr>\n",
       "    <tr>\n",
       "      <th>2015-01-06</th>\n",
       "      <td>46.750000</td>\n",
       "      <td>45.540001</td>\n",
       "      <td>46.380001</td>\n",
       "      <td>45.650002</td>\n",
       "      <td>36447900.0</td>\n",
       "      <td>40.659245</td>\n",
       "    </tr>\n",
       "    <tr>\n",
       "      <th>2015-01-07</th>\n",
       "      <td>46.459999</td>\n",
       "      <td>45.490002</td>\n",
       "      <td>45.980000</td>\n",
       "      <td>46.230000</td>\n",
       "      <td>29114100.0</td>\n",
       "      <td>41.175831</td>\n",
       "    </tr>\n",
       "    <tr>\n",
       "      <th>2015-01-08</th>\n",
       "      <td>47.750000</td>\n",
       "      <td>46.720001</td>\n",
       "      <td>46.750000</td>\n",
       "      <td>47.590000</td>\n",
       "      <td>29645200.0</td>\n",
       "      <td>42.387146</td>\n",
       "    </tr>\n",
       "  </tbody>\n",
       "</table>\n",
       "</div>"
      ],
      "text/plain": [
       "                 High        Low       Open      Close      Volume  Adj Close\n",
       "Date                                                                         \n",
       "2015-01-02  47.419998  46.540001  46.660000  46.759998  27913900.0  41.647892\n",
       "2015-01-05  46.730000  46.250000  46.369999  46.330002  39673900.0  41.264908\n",
       "2015-01-06  46.750000  45.540001  46.380001  45.650002  36447900.0  40.659245\n",
       "2015-01-07  46.459999  45.490002  45.980000  46.230000  29114100.0  41.175831\n",
       "2015-01-08  47.750000  46.720001  46.750000  47.590000  29645200.0  42.387146"
      ]
     },
     "execution_count": 14,
     "metadata": {},
     "output_type": "execute_result"
    }
   ],
   "source": [
    "df.head()"
   ]
  },
  {
   "cell_type": "code",
   "execution_count": 15,
   "metadata": {},
   "outputs": [
    {
     "name": "stdout",
     "output_type": "stream",
     "text": [
      "<class 'pandas.core.frame.DataFrame'>\n",
      "DatetimeIndex: 1460 entries, 2015-01-02 to 2020-10-19\n",
      "Data columns (total 6 columns):\n",
      " #   Column     Non-Null Count  Dtype  \n",
      "---  ------     --------------  -----  \n",
      " 0   High       1460 non-null   float64\n",
      " 1   Low        1460 non-null   float64\n",
      " 2   Open       1460 non-null   float64\n",
      " 3   Close      1460 non-null   float64\n",
      " 4   Volume     1460 non-null   float64\n",
      " 5   Adj Close  1460 non-null   float64\n",
      "dtypes: float64(6)\n",
      "memory usage: 79.8 KB\n"
     ]
    }
   ],
   "source": [
    "df.info()"
   ]
  },
  {
   "cell_type": "code",
   "execution_count": 16,
   "metadata": {},
   "outputs": [
    {
     "data": {
      "image/png": "[encoded data removed]",
      "text/plain": [
       "<Figure size 792x648 with 1 Axes>"
      ]
     },
     "metadata": {
      "needs_background": "light"
     },
     "output_type": "display_data"
    }
   ],
   "source": [
    "# Here I'm plotting two different columns from a dataframe to compare.\n",
    "\n",
    "df.Close.plot(color='dodgerblue')\n",
    "df.Open.plot(color='orange', alpha=.6)\n",
    "\n",
    "plt.title('Yahoo Daily Opening and Closing Stock Prices From 2015-2020')\n",
    "plt.xlabel('')\n",
    "plt.ylabel('Dollars')\n",
    "plt.legend()\n",
    "\n",
    "plt.show()"
   ]
  },
  {
   "cell_type": "code",
   "execution_count": 17,
   "metadata": {},
   "outputs": [
    {
     "data": {
      "text/html": [
       "<div>\n",
       "<style scoped>\n",
       "    .dataframe tbody tr th:only-of-type {\n",
       "        vertical-align: middle;\n",
       "    }\n",
       "\n",
       "    .dataframe tbody tr th {\n",
       "        vertical-align: top;\n",
       "    }\n",
       "\n",
       "    .dataframe thead th {\n",
       "        text-align: right;\n",
       "    }\n",
       "</style>\n",
       "<table border=\"1\" class=\"dataframe\">\n",
       "  <thead>\n",
       "    <tr style=\"text-align: right;\">\n",
       "      <th></th>\n",
       "      <th>High</th>\n",
       "      <th>Low</th>\n",
       "      <th>Open</th>\n",
       "      <th>Close</th>\n",
       "      <th>Volume</th>\n",
       "      <th>Adj Close</th>\n",
       "    </tr>\n",
       "  </thead>\n",
       "  <tbody>\n",
       "    <tr>\n",
       "      <th>count</th>\n",
       "      <td>1460.000000</td>\n",
       "      <td>1460.000000</td>\n",
       "      <td>1460.000000</td>\n",
       "      <td>1460.000000</td>\n",
       "      <td>1.460000e+03</td>\n",
       "      <td>1460.000000</td>\n",
       "    </tr>\n",
       "    <tr>\n",
       "      <th>mean</th>\n",
       "      <td>96.679767</td>\n",
       "      <td>94.777938</td>\n",
       "      <td>95.753271</td>\n",
       "      <td>95.786863</td>\n",
       "      <td>3.061446e+07</td>\n",
       "      <td>92.790447</td>\n",
       "    </tr>\n",
       "    <tr>\n",
       "      <th>std</th>\n",
       "      <td>48.605935</td>\n",
       "      <td>47.319890</td>\n",
       "      <td>47.987004</td>\n",
       "      <td>48.003060</td>\n",
       "      <td>1.499481e+07</td>\n",
       "      <td>49.259919</td>\n",
       "    </tr>\n",
       "    <tr>\n",
       "      <th>min</th>\n",
       "      <td>40.740002</td>\n",
       "      <td>39.720001</td>\n",
       "      <td>40.340000</td>\n",
       "      <td>40.290001</td>\n",
       "      <td>7.425600e+06</td>\n",
       "      <td>35.983208</td>\n",
       "    </tr>\n",
       "    <tr>\n",
       "      <th>25%</th>\n",
       "      <td>55.632500</td>\n",
       "      <td>54.562500</td>\n",
       "      <td>55.172499</td>\n",
       "      <td>55.217501</td>\n",
       "      <td>2.139235e+07</td>\n",
       "      <td>50.622564</td>\n",
       "    </tr>\n",
       "    <tr>\n",
       "      <th>50%</th>\n",
       "      <td>84.445000</td>\n",
       "      <td>83.225002</td>\n",
       "      <td>83.810001</td>\n",
       "      <td>83.990002</td>\n",
       "      <td>2.696040e+07</td>\n",
       "      <td>80.388893</td>\n",
       "    </tr>\n",
       "    <tr>\n",
       "      <th>75%</th>\n",
       "      <td>126.455002</td>\n",
       "      <td>124.574997</td>\n",
       "      <td>125.527502</td>\n",
       "      <td>125.877501</td>\n",
       "      <td>3.476100e+07</td>\n",
       "      <td>123.937529</td>\n",
       "    </tr>\n",
       "    <tr>\n",
       "      <th>max</th>\n",
       "      <td>232.860001</td>\n",
       "      <td>227.350006</td>\n",
       "      <td>229.270004</td>\n",
       "      <td>231.649994</td>\n",
       "      <td>1.691640e+08</td>\n",
       "      <td>231.649994</td>\n",
       "    </tr>\n",
       "  </tbody>\n",
       "</table>\n",
       "</div>"
      ],
      "text/plain": [
       "              High          Low         Open        Close        Volume  \\\n",
       "count  1460.000000  1460.000000  1460.000000  1460.000000  1.460000e+03   \n",
       "mean     96.679767    94.777938    95.753271    95.786863  3.061446e+07   \n",
       "std      48.605935    47.319890    47.987004    48.003060  1.499481e+07   \n",
       "min      40.740002    39.720001    40.340000    40.290001  7.425600e+06   \n",
       "25%      55.632500    54.562500    55.172499    55.217501  2.139235e+07   \n",
       "50%      84.445000    83.225002    83.810001    83.990002  2.696040e+07   \n",
       "75%     126.455002   124.574997   125.527502   125.877501  3.476100e+07   \n",
       "max     232.860001   227.350006   229.270004   231.649994  1.691640e+08   \n",
       "\n",
       "         Adj Close  \n",
       "count  1460.000000  \n",
       "mean     92.790447  \n",
       "std      49.259919  \n",
       "min      35.983208  \n",
       "25%      50.622564  \n",
       "50%      80.388893  \n",
       "75%     123.937529  \n",
       "max     231.649994  "
      ]
     },
     "execution_count": 17,
     "metadata": {},
     "output_type": "execute_result"
    }
   ],
   "source": [
    "df.describe()"
   ]
  },
  {
   "cell_type": "markdown",
   "metadata": {},
   "source": [
    "**When you have time, this tutorial plays with DataReader [more](https://www.youtube.com/watch?v=UFuo7EHI8zc&list=PL-osiE80TeTsWmV9i9c58mdDCSskIFdDS&index=10).**"
   ]
  },
  {
   "cell_type": "markdown",
   "metadata": {},
   "source": [
    "<hr style=\"border-top: 10px groove cornflowerblue; margin-top: 1px; margin-bottom: 1px\"></hr>"
   ]
  },
  {
   "cell_type": "markdown",
   "metadata": {},
   "source": [
    "## Preparing"
   ]
  },
  {
   "cell_type": "markdown",
   "metadata": {},
   "source": [
    "<hr style=\"border-top: 10px groove cornflowerblue; margin-top: 1px; margin-bottom: 1px\"></hr>"
   ]
  },
  {
   "cell_type": "markdown",
   "metadata": {},
   "source": [
    "### **<font color=red>What?</font>**\n",
    "\n",
    "I will address specifically preparing data with a DatetimeIndex. Click [here](#conversion) to jump back up to how to convert your DataFrame or import your csv file to have a DatetimeIndex."
   ]
  },
  {
   "cell_type": "markdown",
   "metadata": {},
   "source": [
    "___"
   ]
  },
  {
   "cell_type": "markdown",
   "metadata": {},
   "source": [
    "### **<font color=orange>So What?</font>**\n",
    "\n",
    "Time series data allows us to forecast and plan for future events and patterns by analyzing and understanding past events and patterns even when time is our only known variable.\n",
    "\n",
    "**<font color=purple>Important Components of Time Series Data</font>**\n",
    "\n",
    "**Trend** is the upward or downward movement of a value over time. (Uptrend or Down Trend)\n",
    "\n",
    ">For example, the cost of living in San Antonio is on an Uptrend while compensation has not increased at the same rate.\n",
    "\n",
    "**Seasonality** is a repeating pattern that occurs over a fixed time frame like a day, a week, a month, etc.\n",
    "\n",
    ">For example, if you look at the number of cars on the road, you will see seasonality as the number of cars increases or decreases at certain times of the day."
   ]
  },
  {
   "cell_type": "markdown",
   "metadata": {},
   "source": [
    "___"
   ]
  },
  {
   "cell_type": "markdown",
   "metadata": {},
   "source": [
    "### **<font color=green>Now What?</font>**\n",
    "\n",
    "<div class=\"alert alert-block alert-danger\"> If you have upgraded to pandas 1.0.3,</div>\n",
    "\n",
    "you can check by running this in a cell `pd.__version__`,[this documentation](https://pandas.pydata.org/pandas-docs/stable/reference/api/pandas.DatetimeIndex.html#pandas.DatetimeIndex) will be helpful."
   ]
  },
  {
   "cell_type": "code",
   "execution_count": 18,
   "metadata": {},
   "outputs": [
    {
     "data": {
      "text/html": [
       "<div>\n",
       "<style scoped>\n",
       "    .dataframe tbody tr th:only-of-type {\n",
       "        vertical-align: middle;\n",
       "    }\n",
       "\n",
       "    .dataframe tbody tr th {\n",
       "        vertical-align: top;\n",
       "    }\n",
       "\n",
       "    .dataframe thead th {\n",
       "        text-align: right;\n",
       "    }\n",
       "</style>\n",
       "<table border=\"1\" class=\"dataframe\">\n",
       "  <thead>\n",
       "    <tr style=\"text-align: right;\">\n",
       "      <th></th>\n",
       "      <th>delay</th>\n",
       "      <th>distance</th>\n",
       "      <th>origin</th>\n",
       "      <th>destination</th>\n",
       "    </tr>\n",
       "    <tr>\n",
       "      <th>date</th>\n",
       "      <th></th>\n",
       "      <th></th>\n",
       "      <th></th>\n",
       "      <th></th>\n",
       "    </tr>\n",
       "  </thead>\n",
       "  <tbody>\n",
       "    <tr>\n",
       "      <th>2001-01-01 00:01:00</th>\n",
       "      <td>14</td>\n",
       "      <td>405</td>\n",
       "      <td>MCI</td>\n",
       "      <td>MDW</td>\n",
       "    </tr>\n",
       "    <tr>\n",
       "      <th>2001-01-01 06:20:00</th>\n",
       "      <td>0</td>\n",
       "      <td>491</td>\n",
       "      <td>BNA</td>\n",
       "      <td>MCI</td>\n",
       "    </tr>\n",
       "  </tbody>\n",
       "</table>\n",
       "</div>"
      ],
      "text/plain": [
       "                     delay  distance origin destination\n",
       "date                                                   \n",
       "2001-01-01 00:01:00     14       405    MCI         MDW\n",
       "2001-01-01 06:20:00      0       491    BNA         MCI"
      ]
     },
     "execution_count": 18,
     "metadata": {},
     "output_type": "execute_result"
    }
   ],
   "source": [
    "# I'll use the flights dataset from vega_datasets converted to have a DateTimeIndex.\n",
    "\n",
    "from vega_datasets import data\n",
    "\n",
    "fdf = data.flights_20k()\n",
    "fdf = fdf.set_index('date').sort_index()\n",
    "\n",
    "fdf.head(2)"
   ]
  },
  {
   "cell_type": "code",
   "execution_count": 19,
   "metadata": {},
   "outputs": [
    {
     "data": {
      "text/plain": [
       "Timestamp('2001-01-01 00:01:00')"
      ]
     },
     "execution_count": 19,
     "metadata": {},
     "output_type": "execute_result"
    }
   ],
   "source": [
    "# I can use the .min() method on the index of my df to return the first date in my dataset.\n",
    "\n",
    "fdf.index.min()"
   ]
  },
  {
   "cell_type": "code",
   "execution_count": 20,
   "metadata": {},
   "outputs": [
    {
     "data": {
      "text/plain": [
       "Timestamp('2001-03-31 21:30:00')"
      ]
     },
     "execution_count": 20,
     "metadata": {},
     "output_type": "execute_result"
    }
   ],
   "source": [
    "# I can use the .max() method on the index of my df to return the last date in my dataset.\n",
    "\n",
    "fdf.index.max()"
   ]
  },
  {
   "cell_type": "markdown",
   "metadata": {},
   "source": [
    "___"
   ]
  },
  {
   "cell_type": "markdown",
   "metadata": {},
   "source": [
    "#### Use `.loc()`\n",
    "\n",
    "**I can use `.loc[]` to access a row or column or a group of rows or colums by index label, which in this case is a date.**\n",
    "\n",
    "I can pass in my results from calling `fdf.index.min()` and `fdf.index.max()` above. I get back all of the information for the first observation in my dataset and the last."
   ]
  },
  {
   "cell_type": "code",
   "execution_count": 21,
   "metadata": {},
   "outputs": [
    {
     "data": {
      "text/plain": [
       "delay           14\n",
       "distance       405\n",
       "origin         MCI\n",
       "destination    MDW\n",
       "Name: 2001-01-01 00:01:00, dtype: object"
      ]
     },
     "execution_count": 21,
     "metadata": {},
     "output_type": "execute_result"
    }
   ],
   "source": [
    "# There is only one observation that matches this date and time combo, so I get back a Series.\n",
    "\n",
    "fdf.loc[fdf.index.min()]"
   ]
  },
  {
   "cell_type": "code",
   "execution_count": 22,
   "metadata": {},
   "outputs": [
    {
     "data": {
      "text/html": [
       "<div>\n",
       "<style scoped>\n",
       "    .dataframe tbody tr th:only-of-type {\n",
       "        vertical-align: middle;\n",
       "    }\n",
       "\n",
       "    .dataframe tbody tr th {\n",
       "        vertical-align: top;\n",
       "    }\n",
       "\n",
       "    .dataframe thead th {\n",
       "        text-align: right;\n",
       "    }\n",
       "</style>\n",
       "<table border=\"1\" class=\"dataframe\">\n",
       "  <thead>\n",
       "    <tr style=\"text-align: right;\">\n",
       "      <th></th>\n",
       "      <th>delay</th>\n",
       "      <th>distance</th>\n",
       "      <th>origin</th>\n",
       "      <th>destination</th>\n",
       "    </tr>\n",
       "    <tr>\n",
       "      <th>date</th>\n",
       "      <th></th>\n",
       "      <th></th>\n",
       "      <th></th>\n",
       "      <th></th>\n",
       "    </tr>\n",
       "  </thead>\n",
       "  <tbody>\n",
       "    <tr>\n",
       "      <th>2001-03-31 21:30:00</th>\n",
       "      <td>30</td>\n",
       "      <td>174</td>\n",
       "      <td>TPA</td>\n",
       "      <td>PBI</td>\n",
       "    </tr>\n",
       "    <tr>\n",
       "      <th>2001-03-31 21:30:00</th>\n",
       "      <td>-11</td>\n",
       "      <td>495</td>\n",
       "      <td>BWI</td>\n",
       "      <td>SDF</td>\n",
       "    </tr>\n",
       "  </tbody>\n",
       "</table>\n",
       "</div>"
      ],
      "text/plain": [
       "                     delay  distance origin destination\n",
       "date                                                   \n",
       "2001-03-31 21:30:00     30       174    TPA         PBI\n",
       "2001-03-31 21:30:00    -11       495    BWI         SDF"
      ]
     },
     "execution_count": 22,
     "metadata": {},
     "output_type": "execute_result"
    }
   ],
   "source": [
    "# There are two observations with this date and time combo, so I get back a DataFrame.\n",
    "\n",
    "fdf.loc[fdf.index.max()]"
   ]
  },
  {
   "cell_type": "code",
   "execution_count": 23,
   "metadata": {},
   "outputs": [
    {
     "data": {
      "text/html": [
       "<div>\n",
       "<style scoped>\n",
       "    .dataframe tbody tr th:only-of-type {\n",
       "        vertical-align: middle;\n",
       "    }\n",
       "\n",
       "    .dataframe tbody tr th {\n",
       "        vertical-align: top;\n",
       "    }\n",
       "\n",
       "    .dataframe thead th {\n",
       "        text-align: right;\n",
       "    }\n",
       "</style>\n",
       "<table border=\"1\" class=\"dataframe\">\n",
       "  <thead>\n",
       "    <tr style=\"text-align: right;\">\n",
       "      <th></th>\n",
       "      <th>delay</th>\n",
       "      <th>distance</th>\n",
       "      <th>origin</th>\n",
       "      <th>destination</th>\n",
       "    </tr>\n",
       "    <tr>\n",
       "      <th>date</th>\n",
       "      <th></th>\n",
       "      <th></th>\n",
       "      <th></th>\n",
       "      <th></th>\n",
       "    </tr>\n",
       "  </thead>\n",
       "  <tbody>\n",
       "    <tr>\n",
       "      <th>2001-02-03 06:20:00</th>\n",
       "      <td>-2</td>\n",
       "      <td>303</td>\n",
       "      <td>HOU</td>\n",
       "      <td>MSY</td>\n",
       "    </tr>\n",
       "    <tr>\n",
       "      <th>2001-02-03 06:25:00</th>\n",
       "      <td>8</td>\n",
       "      <td>689</td>\n",
       "      <td>SLC</td>\n",
       "      <td>SEA</td>\n",
       "    </tr>\n",
       "    <tr>\n",
       "      <th>2001-02-03 06:30:00</th>\n",
       "      <td>-1</td>\n",
       "      <td>570</td>\n",
       "      <td>BHM</td>\n",
       "      <td>HOU</td>\n",
       "    </tr>\n",
       "    <tr>\n",
       "      <th>2001-02-03 06:30:00</th>\n",
       "      <td>-11</td>\n",
       "      <td>677</td>\n",
       "      <td>ABQ</td>\n",
       "      <td>LAX</td>\n",
       "    </tr>\n",
       "    <tr>\n",
       "      <th>2001-02-03 06:30:00</th>\n",
       "      <td>0</td>\n",
       "      <td>399</td>\n",
       "      <td>BOI</td>\n",
       "      <td>SEA</td>\n",
       "    </tr>\n",
       "  </tbody>\n",
       "</table>\n",
       "</div>"
      ],
      "text/plain": [
       "                     delay  distance origin destination\n",
       "date                                                   \n",
       "2001-02-03 06:20:00     -2       303    HOU         MSY\n",
       "2001-02-03 06:25:00      8       689    SLC         SEA\n",
       "2001-02-03 06:30:00     -1       570    BHM         HOU\n",
       "2001-02-03 06:30:00    -11       677    ABQ         LAX\n",
       "2001-02-03 06:30:00      0       399    BOI         SEA"
      ]
     },
     "execution_count": 23,
     "metadata": {},
     "output_type": "execute_result"
    }
   ],
   "source": [
    "# I can look at all of the observations from a specific date passed to `.loc[]`.\n",
    "\n",
    "fdf.loc['2001-02-03'].head()"
   ]
  },
  {
   "cell_type": "code",
   "execution_count": 24,
   "metadata": {},
   "outputs": [
    {
     "data": {
      "text/html": [
       "<div>\n",
       "<style scoped>\n",
       "    .dataframe tbody tr th:only-of-type {\n",
       "        vertical-align: middle;\n",
       "    }\n",
       "\n",
       "    .dataframe tbody tr th {\n",
       "        vertical-align: top;\n",
       "    }\n",
       "\n",
       "    .dataframe thead th {\n",
       "        text-align: right;\n",
       "    }\n",
       "</style>\n",
       "<table border=\"1\" class=\"dataframe\">\n",
       "  <thead>\n",
       "    <tr style=\"text-align: right;\">\n",
       "      <th></th>\n",
       "      <th>delay</th>\n",
       "      <th>distance</th>\n",
       "      <th>origin</th>\n",
       "      <th>destination</th>\n",
       "    </tr>\n",
       "    <tr>\n",
       "      <th>date</th>\n",
       "      <th></th>\n",
       "      <th></th>\n",
       "      <th></th>\n",
       "      <th></th>\n",
       "    </tr>\n",
       "  </thead>\n",
       "  <tbody>\n",
       "    <tr>\n",
       "      <th>2001-02-03 06:20:00</th>\n",
       "      <td>-2</td>\n",
       "      <td>303</td>\n",
       "      <td>HOU</td>\n",
       "      <td>MSY</td>\n",
       "    </tr>\n",
       "    <tr>\n",
       "      <th>2001-02-03 06:25:00</th>\n",
       "      <td>8</td>\n",
       "      <td>689</td>\n",
       "      <td>SLC</td>\n",
       "      <td>SEA</td>\n",
       "    </tr>\n",
       "    <tr>\n",
       "      <th>2001-02-03 06:30:00</th>\n",
       "      <td>-1</td>\n",
       "      <td>570</td>\n",
       "      <td>BHM</td>\n",
       "      <td>HOU</td>\n",
       "    </tr>\n",
       "    <tr>\n",
       "      <th>2001-02-03 06:30:00</th>\n",
       "      <td>-11</td>\n",
       "      <td>677</td>\n",
       "      <td>ABQ</td>\n",
       "      <td>LAX</td>\n",
       "    </tr>\n",
       "    <tr>\n",
       "      <th>2001-02-03 06:30:00</th>\n",
       "      <td>0</td>\n",
       "      <td>399</td>\n",
       "      <td>BOI</td>\n",
       "      <td>SEA</td>\n",
       "    </tr>\n",
       "  </tbody>\n",
       "</table>\n",
       "</div>"
      ],
      "text/plain": [
       "                     delay  distance origin destination\n",
       "date                                                   \n",
       "2001-02-03 06:20:00     -2       303    HOU         MSY\n",
       "2001-02-03 06:25:00      8       689    SLC         SEA\n",
       "2001-02-03 06:30:00     -1       570    BHM         HOU\n",
       "2001-02-03 06:30:00    -11       677    ABQ         LAX\n",
       "2001-02-03 06:30:00      0       399    BOI         SEA"
      ]
     },
     "execution_count": 24,
     "metadata": {},
     "output_type": "execute_result"
    }
   ],
   "source": [
    "# I can look at all of the observations from a specific date range to `.loc[]`.\n",
    "\n",
    "fdf.loc['2001-02-03' : '2001-02-05'].head()"
   ]
  },
  {
   "cell_type": "code",
   "execution_count": 25,
   "metadata": {},
   "outputs": [
    {
     "data": {
      "text/html": [
       "<div>\n",
       "<style scoped>\n",
       "    .dataframe tbody tr th:only-of-type {\n",
       "        vertical-align: middle;\n",
       "    }\n",
       "\n",
       "    .dataframe tbody tr th {\n",
       "        vertical-align: top;\n",
       "    }\n",
       "\n",
       "    .dataframe thead th {\n",
       "        text-align: right;\n",
       "    }\n",
       "</style>\n",
       "<table border=\"1\" class=\"dataframe\">\n",
       "  <thead>\n",
       "    <tr style=\"text-align: right;\">\n",
       "      <th></th>\n",
       "      <th>delay</th>\n",
       "      <th>distance</th>\n",
       "      <th>origin</th>\n",
       "      <th>destination</th>\n",
       "    </tr>\n",
       "    <tr>\n",
       "      <th>date</th>\n",
       "      <th></th>\n",
       "      <th></th>\n",
       "      <th></th>\n",
       "      <th></th>\n",
       "    </tr>\n",
       "  </thead>\n",
       "  <tbody>\n",
       "    <tr>\n",
       "      <th>2001-01-01 00:01:00</th>\n",
       "      <td>14</td>\n",
       "      <td>405</td>\n",
       "      <td>MCI</td>\n",
       "      <td>MDW</td>\n",
       "    </tr>\n",
       "    <tr>\n",
       "      <th>2001-01-01 06:20:00</th>\n",
       "      <td>0</td>\n",
       "      <td>491</td>\n",
       "      <td>BNA</td>\n",
       "      <td>MCI</td>\n",
       "    </tr>\n",
       "    <tr>\n",
       "      <th>2001-01-01 06:30:00</th>\n",
       "      <td>-8</td>\n",
       "      <td>251</td>\n",
       "      <td>MDW</td>\n",
       "      <td>STL</td>\n",
       "    </tr>\n",
       "    <tr>\n",
       "      <th>2001-01-01 07:00:00</th>\n",
       "      <td>-10</td>\n",
       "      <td>361</td>\n",
       "      <td>OAK</td>\n",
       "      <td>ONT</td>\n",
       "    </tr>\n",
       "    <tr>\n",
       "      <th>2001-01-01 07:00:00</th>\n",
       "      <td>0</td>\n",
       "      <td>303</td>\n",
       "      <td>MSY</td>\n",
       "      <td>HOU</td>\n",
       "    </tr>\n",
       "  </tbody>\n",
       "</table>\n",
       "</div>"
      ],
      "text/plain": [
       "                     delay  distance origin destination\n",
       "date                                                   \n",
       "2001-01-01 00:01:00     14       405    MCI         MDW\n",
       "2001-01-01 06:20:00      0       491    BNA         MCI\n",
       "2001-01-01 06:30:00     -8       251    MDW         STL\n",
       "2001-01-01 07:00:00    -10       361    OAK         ONT\n",
       "2001-01-01 07:00:00      0       303    MSY         HOU"
      ]
     },
     "execution_count": 25,
     "metadata": {},
     "output_type": "execute_result"
    }
   ],
   "source": [
    "# I can look at all of the observations from a month and year combo passed to `.loc[]`.\n",
    "\n",
    "fdf.loc['2001-01'].head()"
   ]
  },
  {
   "cell_type": "markdown",
   "metadata": {},
   "source": [
    "___"
   ]
  },
  {
   "cell_type": "markdown",
   "metadata": {},
   "source": [
    "#### Use Date Parts\n",
    "\n",
    "A DatetimeIndex allows me to quickly access and isolate other information about a particular datetime like the month, the day of the week, or the year. There are many more attributes of a timestamp object that you can access [here](https://pandas.pydata.org/pandas-docs/stable/reference/api/pandas.DatetimeIndex.html#pandas.DatetimeIndex)."
   ]
  },
  {
   "cell_type": "code",
   "execution_count": 26,
   "metadata": {},
   "outputs": [
    {
     "data": {
      "text/html": [
       "<div>\n",
       "<style scoped>\n",
       "    .dataframe tbody tr th:only-of-type {\n",
       "        vertical-align: middle;\n",
       "    }\n",
       "\n",
       "    .dataframe tbody tr th {\n",
       "        vertical-align: top;\n",
       "    }\n",
       "\n",
       "    .dataframe thead th {\n",
       "        text-align: right;\n",
       "    }\n",
       "</style>\n",
       "<table border=\"1\" class=\"dataframe\">\n",
       "  <thead>\n",
       "    <tr style=\"text-align: right;\">\n",
       "      <th></th>\n",
       "      <th>delay</th>\n",
       "      <th>distance</th>\n",
       "      <th>origin</th>\n",
       "      <th>destination</th>\n",
       "      <th>year</th>\n",
       "      <th>month</th>\n",
       "      <th>weekday</th>\n",
       "    </tr>\n",
       "    <tr>\n",
       "      <th>date</th>\n",
       "      <th></th>\n",
       "      <th></th>\n",
       "      <th></th>\n",
       "      <th></th>\n",
       "      <th></th>\n",
       "      <th></th>\n",
       "      <th></th>\n",
       "    </tr>\n",
       "  </thead>\n",
       "  <tbody>\n",
       "    <tr>\n",
       "      <th>2001-01-01 00:01:00</th>\n",
       "      <td>14</td>\n",
       "      <td>405</td>\n",
       "      <td>MCI</td>\n",
       "      <td>MDW</td>\n",
       "      <td>2001</td>\n",
       "      <td>1</td>\n",
       "      <td>Monday</td>\n",
       "    </tr>\n",
       "    <tr>\n",
       "      <th>2001-01-01 06:20:00</th>\n",
       "      <td>0</td>\n",
       "      <td>491</td>\n",
       "      <td>BNA</td>\n",
       "      <td>MCI</td>\n",
       "      <td>2001</td>\n",
       "      <td>1</td>\n",
       "      <td>Monday</td>\n",
       "    </tr>\n",
       "  </tbody>\n",
       "</table>\n",
       "</div>"
      ],
      "text/plain": [
       "                     delay  distance origin destination  year month weekday\n",
       "date                                                                       \n",
       "2001-01-01 00:01:00     14       405    MCI         MDW  2001     1  Monday\n",
       "2001-01-01 06:20:00      0       491    BNA         MCI  2001     1  Monday"
      ]
     },
     "execution_count": 26,
     "metadata": {},
     "output_type": "execute_result"
    }
   ],
   "source": [
    "# Create new columns in my flights df by accessing different attributes of our DatetimeIndex\n",
    "\n",
    "fdf['year'] = fdf.index.year.astype('category')\n",
    "fdf['month'] = fdf.index.month.astype('category')\n",
    "fdf['weekday'] = fdf.index.day_name().astype('category')\n",
    "\n",
    "fdf.head(2)"
   ]
  },
  {
   "cell_type": "code",
   "execution_count": 27,
   "metadata": {},
   "outputs": [
    {
     "data": {
      "image/png": "[encoded data removed]",
      "text/plain": [
       "<Figure size 792x648 with 2 Axes>"
      ]
     },
     "metadata": {
      "needs_background": "light"
     },
     "output_type": "display_data"
    }
   ],
   "source": [
    "# I'm using my own created function here to check out distributions of just my numeric columns.\n",
    "\n",
    "numeric_hists(fdf, bins=25)"
   ]
  },
  {
   "cell_type": "code",
   "execution_count": 47,
   "metadata": {},
   "outputs": [
    {
     "data": {
      "image/png": "[encoded data removed]",
      "text/plain": [
       "<Figure size 792x648 with 1 Axes>"
      ]
     },
     "metadata": {
      "needs_background": "light"
     },
     "output_type": "display_data"
    }
   ],
   "source": [
    "# Visualize delay by day of the week\n",
    "\n",
    "cats = ['Sunday','Monday', 'Tuesday', 'Wednesday', 'Thursday', 'Friday', 'Saturday']\n",
    "\n",
    "# I'm reversing my list to keep my prefered order while using a horizontal bar chart.\n",
    "cats.reverse()\n",
    "\n",
    "fdf.groupby('weekday')[['delay']].mean().reindex(cats).plot(kind='barh', \n",
    "                                                            color='thistle', \n",
    "                                                            ec='black')\n",
    "plt.title('Average Delay by Day of the Week')\n",
    "plt.ylabel('')\n",
    "plt.xlabel('Delay in Minutes')\n",
    "\n",
    "plt.show()"
   ]
  },
  {
   "cell_type": "markdown",
   "metadata": {},
   "source": [
    "####  Use `.assign()` \n",
    "**Create New Columns from existing columns in your df**\n",
    "\n",
    "```python\n",
    "df = df.assign(new_col_name = your calculation)\n",
    "```"
   ]
  },
  {
   "cell_type": "code",
   "execution_count": 28,
   "metadata": {},
   "outputs": [
    {
     "data": {
      "text/html": [
       "<div>\n",
       "<style scoped>\n",
       "    .dataframe tbody tr th:only-of-type {\n",
       "        vertical-align: middle;\n",
       "    }\n",
       "\n",
       "    .dataframe tbody tr th {\n",
       "        vertical-align: top;\n",
       "    }\n",
       "\n",
       "    .dataframe thead th {\n",
       "        text-align: right;\n",
       "    }\n",
       "</style>\n",
       "<table border=\"1\" class=\"dataframe\">\n",
       "  <thead>\n",
       "    <tr style=\"text-align: right;\">\n",
       "      <th></th>\n",
       "      <th>High</th>\n",
       "      <th>Low</th>\n",
       "      <th>Open</th>\n",
       "      <th>Close</th>\n",
       "      <th>Volume</th>\n",
       "      <th>Adj Close</th>\n",
       "    </tr>\n",
       "    <tr>\n",
       "      <th>Date</th>\n",
       "      <th></th>\n",
       "      <th></th>\n",
       "      <th></th>\n",
       "      <th></th>\n",
       "      <th></th>\n",
       "      <th></th>\n",
       "    </tr>\n",
       "  </thead>\n",
       "  <tbody>\n",
       "    <tr>\n",
       "      <th>2015-01-02</th>\n",
       "      <td>47.419998</td>\n",
       "      <td>46.540001</td>\n",
       "      <td>46.660000</td>\n",
       "      <td>46.759998</td>\n",
       "      <td>27913900.0</td>\n",
       "      <td>41.647892</td>\n",
       "    </tr>\n",
       "    <tr>\n",
       "      <th>2015-01-05</th>\n",
       "      <td>46.730000</td>\n",
       "      <td>46.250000</td>\n",
       "      <td>46.369999</td>\n",
       "      <td>46.330002</td>\n",
       "      <td>39673900.0</td>\n",
       "      <td>41.264908</td>\n",
       "    </tr>\n",
       "  </tbody>\n",
       "</table>\n",
       "</div>"
      ],
      "text/plain": [
       "                 High        Low       Open      Close      Volume  Adj Close\n",
       "Date                                                                         \n",
       "2015-01-02  47.419998  46.540001  46.660000  46.759998  27913900.0  41.647892\n",
       "2015-01-05  46.730000  46.250000  46.369999  46.330002  39673900.0  41.264908"
      ]
     },
     "execution_count": 28,
     "metadata": {},
     "output_type": "execute_result"
    }
   ],
   "source": [
    "# Let's use our Microsoft df again.\n",
    "\n",
    "df = web.DataReader(name='MSFT', data_source='yahoo', start = '2015-01-01', end='2020-12-31').sort_index()\n",
    "df.head(2)"
   ]
  },
  {
   "cell_type": "code",
   "execution_count": 30,
   "metadata": {},
   "outputs": [
    {
     "data": {
      "text/html": [
       "<div>\n",
       "<style scoped>\n",
       "    .dataframe tbody tr th:only-of-type {\n",
       "        vertical-align: middle;\n",
       "    }\n",
       "\n",
       "    .dataframe tbody tr th {\n",
       "        vertical-align: top;\n",
       "    }\n",
       "\n",
       "    .dataframe thead th {\n",
       "        text-align: right;\n",
       "    }\n",
       "</style>\n",
       "<table border=\"1\" class=\"dataframe\">\n",
       "  <thead>\n",
       "    <tr style=\"text-align: right;\">\n",
       "      <th></th>\n",
       "      <th>High</th>\n",
       "      <th>Low</th>\n",
       "      <th>Open</th>\n",
       "      <th>Close</th>\n",
       "      <th>Volume</th>\n",
       "      <th>Adj Close</th>\n",
       "      <th>Price_range</th>\n",
       "    </tr>\n",
       "    <tr>\n",
       "      <th>Date</th>\n",
       "      <th></th>\n",
       "      <th></th>\n",
       "      <th></th>\n",
       "      <th></th>\n",
       "      <th></th>\n",
       "      <th></th>\n",
       "      <th></th>\n",
       "    </tr>\n",
       "  </thead>\n",
       "  <tbody>\n",
       "    <tr>\n",
       "      <th>2015-01-02</th>\n",
       "      <td>47.419998</td>\n",
       "      <td>46.540001</td>\n",
       "      <td>46.66</td>\n",
       "      <td>46.759998</td>\n",
       "      <td>27913900.0</td>\n",
       "      <td>41.647892</td>\n",
       "      <td>0.879997</td>\n",
       "    </tr>\n",
       "  </tbody>\n",
       "</table>\n",
       "</div>"
      ],
      "text/plain": [
       "                 High        Low   Open      Close      Volume  Adj Close  \\\n",
       "Date                                                                        \n",
       "2015-01-02  47.419998  46.540001  46.66  46.759998  27913900.0  41.647892   \n",
       "\n",
       "            Price_range  \n",
       "Date                     \n",
       "2015-01-02     0.879997  "
      ]
     },
     "execution_count": 30,
     "metadata": {},
     "output_type": "execute_result"
    }
   ],
   "source": [
    "# I can create a new calculated column from two existing columns in my DataFrame using `.assign()`.\n",
    "\n",
    "df = df.assign(Price_range = df.High - df.Low)\n",
    "df.head(1)"
   ]
  },
  {
   "cell_type": "markdown",
   "metadata": {},
   "source": [
    "#### Use `.diff()`\n",
    "\n",
    "**Using `.diff()` calculates the difference of a df element compared with another element in the df (the default is the element in the previous row of the same column).**\n",
    "\n",
    "    {default}\n",
    "```python\n",
    "df.diff(periods=1, axis=0)\n",
    "```\n",
    "\n",
    "**Difference in df element with df element in previous rows**\n",
    "```python\n",
    "df.diff()\n",
    "```\n",
    "\n",
    "**Difference in df element with df element in previous columns**\n",
    "```python\n",
    "df.diff(axis=1)\n",
    "```"
   ]
  },
  {
   "cell_type": "markdown",
   "metadata": {},
   "source": [
    "Here I create a new calculated column using `.assign()` with the value of the difference between current sales and previous day sales. Each observation represents a single business day."
   ]
  },
  {
   "cell_type": "code",
   "execution_count": 31,
   "metadata": {},
   "outputs": [
    {
     "data": {
      "text/html": [
       "<div>\n",
       "<style scoped>\n",
       "    .dataframe tbody tr th:only-of-type {\n",
       "        vertical-align: middle;\n",
       "    }\n",
       "\n",
       "    .dataframe tbody tr th {\n",
       "        vertical-align: top;\n",
       "    }\n",
       "\n",
       "    .dataframe thead th {\n",
       "        text-align: right;\n",
       "    }\n",
       "</style>\n",
       "<table border=\"1\" class=\"dataframe\">\n",
       "  <thead>\n",
       "    <tr style=\"text-align: right;\">\n",
       "      <th></th>\n",
       "      <th>High</th>\n",
       "      <th>Low</th>\n",
       "      <th>Open</th>\n",
       "      <th>Close</th>\n",
       "      <th>Volume</th>\n",
       "      <th>Adj Close</th>\n",
       "      <th>Price_range</th>\n",
       "      <th>Price_range_diff</th>\n",
       "    </tr>\n",
       "    <tr>\n",
       "      <th>Date</th>\n",
       "      <th></th>\n",
       "      <th></th>\n",
       "      <th></th>\n",
       "      <th></th>\n",
       "      <th></th>\n",
       "      <th></th>\n",
       "      <th></th>\n",
       "      <th></th>\n",
       "    </tr>\n",
       "  </thead>\n",
       "  <tbody>\n",
       "    <tr>\n",
       "      <th>2015-01-02</th>\n",
       "      <td>47.419998</td>\n",
       "      <td>46.540001</td>\n",
       "      <td>46.660000</td>\n",
       "      <td>46.759998</td>\n",
       "      <td>27913900.0</td>\n",
       "      <td>41.647892</td>\n",
       "      <td>0.879997</td>\n",
       "      <td>NaN</td>\n",
       "    </tr>\n",
       "    <tr>\n",
       "      <th>2015-01-05</th>\n",
       "      <td>46.730000</td>\n",
       "      <td>46.250000</td>\n",
       "      <td>46.369999</td>\n",
       "      <td>46.330002</td>\n",
       "      <td>39673900.0</td>\n",
       "      <td>41.264908</td>\n",
       "      <td>0.480000</td>\n",
       "      <td>-0.399998</td>\n",
       "    </tr>\n",
       "    <tr>\n",
       "      <th>2015-01-06</th>\n",
       "      <td>46.750000</td>\n",
       "      <td>45.540001</td>\n",
       "      <td>46.380001</td>\n",
       "      <td>45.650002</td>\n",
       "      <td>36447900.0</td>\n",
       "      <td>40.659245</td>\n",
       "      <td>1.209999</td>\n",
       "      <td>0.730000</td>\n",
       "    </tr>\n",
       "    <tr>\n",
       "      <th>2015-01-07</th>\n",
       "      <td>46.459999</td>\n",
       "      <td>45.490002</td>\n",
       "      <td>45.980000</td>\n",
       "      <td>46.230000</td>\n",
       "      <td>29114100.0</td>\n",
       "      <td>41.175831</td>\n",
       "      <td>0.969997</td>\n",
       "      <td>-0.240002</td>\n",
       "    </tr>\n",
       "    <tr>\n",
       "      <th>2015-01-08</th>\n",
       "      <td>47.750000</td>\n",
       "      <td>46.720001</td>\n",
       "      <td>46.750000</td>\n",
       "      <td>47.590000</td>\n",
       "      <td>29645200.0</td>\n",
       "      <td>42.387146</td>\n",
       "      <td>1.029999</td>\n",
       "      <td>0.060001</td>\n",
       "    </tr>\n",
       "  </tbody>\n",
       "</table>\n",
       "</div>"
      ],
      "text/plain": [
       "                 High        Low       Open      Close      Volume  Adj Close  \\\n",
       "Date                                                                            \n",
       "2015-01-02  47.419998  46.540001  46.660000  46.759998  27913900.0  41.647892   \n",
       "2015-01-05  46.730000  46.250000  46.369999  46.330002  39673900.0  41.264908   \n",
       "2015-01-06  46.750000  45.540001  46.380001  45.650002  36447900.0  40.659245   \n",
       "2015-01-07  46.459999  45.490002  45.980000  46.230000  29114100.0  41.175831   \n",
       "2015-01-08  47.750000  46.720001  46.750000  47.590000  29645200.0  42.387146   \n",
       "\n",
       "            Price_range  Price_range_diff  \n",
       "Date                                       \n",
       "2015-01-02     0.879997               NaN  \n",
       "2015-01-05     0.480000         -0.399998  \n",
       "2015-01-06     1.209999          0.730000  \n",
       "2015-01-07     0.969997         -0.240002  \n",
       "2015-01-08     1.029999          0.060001  "
      ]
     },
     "execution_count": 31,
     "metadata": {},
     "output_type": "execute_result"
    }
   ],
   "source": [
    "df = df.assign(Price_range_diff = df.Price_range.diff())\n",
    "df.head(5)"
   ]
  },
  {
   "cell_type": "markdown",
   "metadata": {},
   "source": [
    "___"
   ]
  },
  {
   "cell_type": "markdown",
   "metadata": {},
   "source": [
    "#### Use `.resample()`\n",
    "\n",
    "Using `df.resample()` is similar to a `df.groupby()` operation, but with `df.resample()` I end up aggregating with a time frequency.\n",
    "\n",
    "- **rule:** {DateOffset, Timedelta or str}\n",
    "   \n",
    "- **axis:** {0 or ‘index’, 1 or ‘columns’}, default 0\n",
    "\n",
    "```python\n",
    "df.resample(rule='D', axis=0)\n",
    "```\n",
    "\n",
    "<table style=\"display: inline-block\">\n",
    "    <caption style=\"text-align: center\"><strong>TIME SERIES OFFSET ALIASES</strong></caption>\n",
    "<tr><th>ALIAS</th><th>DESCRIPTION</th></tr>\n",
    "<tr><td>B</td><td>business day frequency</td></tr>\n",
    "<tr><td>C</td><td>custom business day frequency (experimental)</td></tr>\n",
    "<tr><td>D</td><td>calendar day frequency</td></tr>\n",
    "<tr><td>W</td><td>weekly frequency</td></tr>\n",
    "<tr><td>M</td><td>month end frequency</td></tr>\n",
    "<tr><td>SM</td><td>semi-month end frequency (15th and end of month)</td></tr>\n",
    "<tr><td>BM</td><td>business month end frequency</td></tr>\n",
    "<tr><td>CBM</td><td>custom business month end frequency</td></tr>\n",
    "<tr><td>MS</td><td>month start frequency</td></tr>\n",
    "<tr><td>SMS</td><td>semi-month start frequency (1st and 15th)</td></tr>\n",
    "<tr><td>BMS</td><td>business month start frequency</td></tr>\n",
    "<tr><td>CBMS</td><td>custom business month start frequency</td></tr>\n",
    "<tr><td>Q</td><td>quarter end frequency</td></tr>\n",
    "<tr><td></td><td><font color=white>intentionally left blank</font></td></tr></table>\n",
    "\n",
    "<table style=\"display: inline-block; margin-left: 40px\">\n",
    "<caption style=\"text-align: center\"></caption>\n",
    "<tr><th>ALIAS</th><th>DESCRIPTION</th></tr>\n",
    "<tr><td>BQ</td><td>business quarter endfrequency</td></tr>\n",
    "<tr><td>QS</td><td>quarter start frequency</td></tr>\n",
    "<tr><td>BQS</td><td>business quarter start frequency</td></tr>\n",
    "<tr><td>A</td><td>year end frequency</td></tr>\n",
    "<tr><td>BA</td><td>business year end frequency</td></tr>\n",
    "<tr><td>AS</td><td>year start frequency</td></tr>\n",
    "<tr><td>BAS</td><td>business year start frequency</td></tr>\n",
    "<tr><td>BH</td><td>business hour frequency</td></tr>\n",
    "<tr><td>H</td><td>hourly frequency</td></tr>\n",
    "<tr><td>T, min</td><td>minutely frequency</td></tr>\n",
    "<tr><td>S</td><td>secondly frequency</td></tr>\n",
    "<tr><td>L, ms</td><td>milliseconds</td></tr>\n",
    "<tr><td>U, us</td><td>microseconds</td></tr>\n",
    "<tr><td>N</td><td>nanoseconds</td></tr></table>"
   ]
  },
  {
   "cell_type": "code",
   "execution_count": 32,
   "metadata": {},
   "outputs": [
    {
     "data": {
      "text/plain": [
       "Date\n",
       "2015-01-31    0.350006\n",
       "2015-02-28   -0.690002\n",
       "2015-03-31   -0.050003\n",
       "2015-04-30    0.450005\n",
       "2015-05-31    0.039997\n",
       "Freq: M, Name: Price_range_diff, dtype: float64"
      ]
     },
     "execution_count": 32,
     "metadata": {},
     "output_type": "execute_result"
    }
   ],
   "source": [
    "# Here I resample my df by month and aggregate the differences in `Price_range_diff` using `.sum()`.\n",
    "    \n",
    "df.resample('M').Price_range_diff.sum().head()"
   ]
  },
  {
   "cell_type": "markdown",
   "metadata": {},
   "source": [
    "How about a quick look at that resample...It looks like the total monthly rise and fall of MS stock prices."
   ]
  },
  {
   "cell_type": "code",
   "execution_count": 43,
   "metadata": {},
   "outputs": [
    {
     "data": {
      "image/png": "[encoded data removed]",
      "text/plain": [
       "<Figure size 792x648 with 1 Axes>"
      ]
     },
     "metadata": {
      "needs_background": "light"
     },
     "output_type": "display_data"
    }
   ],
   "source": [
    "df.resample('M').Price_range_diff.sum().plot(color='dodgerblue')\n",
    "\n",
    "plt.title('Difference in Open and Close Price Range of MS Stock by Month')\n",
    "plt.xlabel('')\n",
    "plt.ylabel('US Dollars')\n",
    "\n",
    "plt.show()"
   ]
  },
  {
   "cell_type": "markdown",
   "metadata": {},
   "source": [
    "**You can also use `.resample()` with your own custom function using `.apply()`.**\n",
    "\n",
    "```python\n",
    "df.resample(rule='A').apply(my_func)\n",
    "```"
   ]
  },
  {
   "cell_type": "markdown",
   "metadata": {},
   "source": [
    "___"
   ]
  },
  {
   "cell_type": "markdown",
   "metadata": {},
   "source": [
    "#### Use `.shift()`\n",
    "\n",
    "Using `df.shift()` shifts all of the data points for the columns forward or backward by 1 period or increment by default.\n",
    "\n",
    "**Note:** When you shift one period without specifying a frequeny increment, the index will shift by its own frequency attribute, and you will lose the first or last value(s) that shifts beyond the date bounds of your df.\n",
    "\n",
    "```python\n",
    "# These are the default setting for the parameters.\n",
    "\n",
    "df.shift(periods=1, freq=None, axis=0, fill_value=None) -> 'DataFrame'\n",
    "```\n",
    "**Note:** If `freq` is specified then the index values are shifted but the data is not realigned. That is, use `freq` if you would like to extend the index when shifting and preserve the original data. (from the doc)"
   ]
  },
  {
   "cell_type": "code",
   "execution_count": 45,
   "metadata": {},
   "outputs": [
    {
     "data": {
      "text/html": [
       "<div>\n",
       "<style scoped>\n",
       "    .dataframe tbody tr th:only-of-type {\n",
       "        vertical-align: middle;\n",
       "    }\n",
       "\n",
       "    .dataframe tbody tr th {\n",
       "        vertical-align: top;\n",
       "    }\n",
       "\n",
       "    .dataframe thead th {\n",
       "        text-align: right;\n",
       "    }\n",
       "</style>\n",
       "<table border=\"1\" class=\"dataframe\">\n",
       "  <thead>\n",
       "    <tr style=\"text-align: right;\">\n",
       "      <th></th>\n",
       "      <th>High</th>\n",
       "      <th>Low</th>\n",
       "      <th>Open</th>\n",
       "      <th>Close</th>\n",
       "      <th>Volume</th>\n",
       "      <th>Adj Close</th>\n",
       "      <th>Price_range</th>\n",
       "      <th>Price_range_diff</th>\n",
       "    </tr>\n",
       "    <tr>\n",
       "      <th>Date</th>\n",
       "      <th></th>\n",
       "      <th></th>\n",
       "      <th></th>\n",
       "      <th></th>\n",
       "      <th></th>\n",
       "      <th></th>\n",
       "      <th></th>\n",
       "      <th></th>\n",
       "    </tr>\n",
       "  </thead>\n",
       "  <tbody>\n",
       "    <tr>\n",
       "      <th>2015-01-02</th>\n",
       "      <td>NaN</td>\n",
       "      <td>NaN</td>\n",
       "      <td>NaN</td>\n",
       "      <td>NaN</td>\n",
       "      <td>NaN</td>\n",
       "      <td>NaN</td>\n",
       "      <td>NaN</td>\n",
       "      <td>NaN</td>\n",
       "    </tr>\n",
       "    <tr>\n",
       "      <th>2015-01-05</th>\n",
       "      <td>47.419998</td>\n",
       "      <td>46.540001</td>\n",
       "      <td>46.660000</td>\n",
       "      <td>46.759998</td>\n",
       "      <td>27913900.0</td>\n",
       "      <td>41.647892</td>\n",
       "      <td>0.879997</td>\n",
       "      <td>NaN</td>\n",
       "    </tr>\n",
       "    <tr>\n",
       "      <th>2015-01-06</th>\n",
       "      <td>46.730000</td>\n",
       "      <td>46.250000</td>\n",
       "      <td>46.369999</td>\n",
       "      <td>46.330002</td>\n",
       "      <td>39673900.0</td>\n",
       "      <td>41.264908</td>\n",
       "      <td>0.480000</td>\n",
       "      <td>-0.399998</td>\n",
       "    </tr>\n",
       "    <tr>\n",
       "      <th>2015-01-07</th>\n",
       "      <td>46.750000</td>\n",
       "      <td>45.540001</td>\n",
       "      <td>46.380001</td>\n",
       "      <td>45.650002</td>\n",
       "      <td>36447900.0</td>\n",
       "      <td>40.659245</td>\n",
       "      <td>1.209999</td>\n",
       "      <td>0.730000</td>\n",
       "    </tr>\n",
       "    <tr>\n",
       "      <th>2015-01-08</th>\n",
       "      <td>46.459999</td>\n",
       "      <td>45.490002</td>\n",
       "      <td>45.980000</td>\n",
       "      <td>46.230000</td>\n",
       "      <td>29114100.0</td>\n",
       "      <td>41.175831</td>\n",
       "      <td>0.969997</td>\n",
       "      <td>-0.240002</td>\n",
       "    </tr>\n",
       "  </tbody>\n",
       "</table>\n",
       "</div>"
      ],
      "text/plain": [
       "                 High        Low       Open      Close      Volume  Adj Close  \\\n",
       "Date                                                                            \n",
       "2015-01-02        NaN        NaN        NaN        NaN         NaN        NaN   \n",
       "2015-01-05  47.419998  46.540001  46.660000  46.759998  27913900.0  41.647892   \n",
       "2015-01-06  46.730000  46.250000  46.369999  46.330002  39673900.0  41.264908   \n",
       "2015-01-07  46.750000  45.540001  46.380001  45.650002  36447900.0  40.659245   \n",
       "2015-01-08  46.459999  45.490002  45.980000  46.230000  29114100.0  41.175831   \n",
       "\n",
       "            Price_range  Price_range_diff  \n",
       "Date                                       \n",
       "2015-01-02          NaN               NaN  \n",
       "2015-01-05     0.879997               NaN  \n",
       "2015-01-06     0.480000         -0.399998  \n",
       "2015-01-07     1.209999          0.730000  \n",
       "2015-01-08     0.969997         -0.240002  "
      ]
     },
     "execution_count": 45,
     "metadata": {},
     "output_type": "execute_result"
    }
   ],
   "source": [
    "# I can shift foward by one day; note the first row is now NaN.\n",
    "\n",
    "df.shift(1).head()"
   ]
  },
  {
   "cell_type": "markdown",
   "metadata": {},
   "source": [
    "```python\n",
    "df.shift(periods=-1)\n",
    "```"
   ]
  },
  {
   "cell_type": "code",
   "execution_count": 28,
   "metadata": {},
   "outputs": [
    {
     "data": {
      "text/html": [
       "<div>\n",
       "<style scoped>\n",
       "    .dataframe tbody tr th:only-of-type {\n",
       "        vertical-align: middle;\n",
       "    }\n",
       "\n",
       "    .dataframe tbody tr th {\n",
       "        vertical-align: top;\n",
       "    }\n",
       "\n",
       "    .dataframe thead th {\n",
       "        text-align: right;\n",
       "    }\n",
       "</style>\n",
       "<table border=\"1\" class=\"dataframe\">\n",
       "  <thead>\n",
       "    <tr style=\"text-align: right;\">\n",
       "      <th></th>\n",
       "      <th>High</th>\n",
       "      <th>Low</th>\n",
       "      <th>Open</th>\n",
       "      <th>Close</th>\n",
       "      <th>Volume</th>\n",
       "      <th>Adj Close</th>\n",
       "      <th>Price_range</th>\n",
       "      <th>Price_range_diff</th>\n",
       "      <th>Rolling_7_price_range</th>\n",
       "      <th>Rolling_30_close</th>\n",
       "    </tr>\n",
       "    <tr>\n",
       "      <th>Date</th>\n",
       "      <th></th>\n",
       "      <th></th>\n",
       "      <th></th>\n",
       "      <th></th>\n",
       "      <th></th>\n",
       "      <th></th>\n",
       "      <th></th>\n",
       "      <th></th>\n",
       "      <th></th>\n",
       "      <th></th>\n",
       "    </tr>\n",
       "  </thead>\n",
       "  <tbody>\n",
       "    <tr>\n",
       "      <th>2020-05-13</th>\n",
       "      <td>180.690002</td>\n",
       "      <td>175.679993</td>\n",
       "      <td>177.539993</td>\n",
       "      <td>180.529999</td>\n",
       "      <td>41873900.0</td>\n",
       "      <td>180.529999</td>\n",
       "      <td>5.010010</td>\n",
       "      <td>-2.500000</td>\n",
       "      <td>4.014284</td>\n",
       "      <td>173.741334</td>\n",
       "    </tr>\n",
       "    <tr>\n",
       "      <th>2020-05-14</th>\n",
       "      <td>187.059998</td>\n",
       "      <td>177.000000</td>\n",
       "      <td>179.059998</td>\n",
       "      <td>183.160004</td>\n",
       "      <td>46610400.0</td>\n",
       "      <td>183.160004</td>\n",
       "      <td>10.059998</td>\n",
       "      <td>5.049988</td>\n",
       "      <td>5.084285</td>\n",
       "      <td>174.671334</td>\n",
       "    </tr>\n",
       "    <tr>\n",
       "      <th>2020-05-15</th>\n",
       "      <td>186.199997</td>\n",
       "      <td>183.960007</td>\n",
       "      <td>185.750000</td>\n",
       "      <td>184.910004</td>\n",
       "      <td>35264500.0</td>\n",
       "      <td>184.910004</td>\n",
       "      <td>2.239990</td>\n",
       "      <td>-7.820007</td>\n",
       "      <td>5.122855</td>\n",
       "      <td>175.707334</td>\n",
       "    </tr>\n",
       "    <tr>\n",
       "      <th>2020-05-18</th>\n",
       "      <td>186.600006</td>\n",
       "      <td>183.490005</td>\n",
       "      <td>185.029999</td>\n",
       "      <td>183.630005</td>\n",
       "      <td>24022714.0</td>\n",
       "      <td>183.630005</td>\n",
       "      <td>3.110001</td>\n",
       "      <td>0.870010</td>\n",
       "      <td>5.332855</td>\n",
       "      <td>176.319334</td>\n",
       "    </tr>\n",
       "    <tr>\n",
       "      <th>2020-05-19</th>\n",
       "      <td>NaN</td>\n",
       "      <td>NaN</td>\n",
       "      <td>NaN</td>\n",
       "      <td>NaN</td>\n",
       "      <td>NaN</td>\n",
       "      <td>NaN</td>\n",
       "      <td>NaN</td>\n",
       "      <td>NaN</td>\n",
       "      <td>NaN</td>\n",
       "      <td>NaN</td>\n",
       "    </tr>\n",
       "  </tbody>\n",
       "</table>\n",
       "</div>"
      ],
      "text/plain": [
       "                  High         Low        Open       Close      Volume  \\\n",
       "Date                                                                     \n",
       "2020-05-13  180.690002  175.679993  177.539993  180.529999  41873900.0   \n",
       "2020-05-14  187.059998  177.000000  179.059998  183.160004  46610400.0   \n",
       "2020-05-15  186.199997  183.960007  185.750000  184.910004  35264500.0   \n",
       "2020-05-18  186.600006  183.490005  185.029999  183.630005  24022714.0   \n",
       "2020-05-19         NaN         NaN         NaN         NaN         NaN   \n",
       "\n",
       "             Adj Close  Price_range  Price_range_diff  Rolling_7_price_range  \\\n",
       "Date                                                                           \n",
       "2020-05-13  180.529999     5.010010         -2.500000               4.014284   \n",
       "2020-05-14  183.160004    10.059998          5.049988               5.084285   \n",
       "2020-05-15  184.910004     2.239990         -7.820007               5.122855   \n",
       "2020-05-18  183.630005     3.110001          0.870010               5.332855   \n",
       "2020-05-19         NaN          NaN               NaN                    NaN   \n",
       "\n",
       "            Rolling_30_close  \n",
       "Date                          \n",
       "2020-05-13        173.741334  \n",
       "2020-05-14        174.671334  \n",
       "2020-05-15        175.707334  \n",
       "2020-05-18        176.319334  \n",
       "2020-05-19               NaN  "
      ]
     },
     "execution_count": 28,
     "metadata": {},
     "output_type": "execute_result"
    }
   ],
   "source": [
    "# I can shift backwards by one day; note the last row is now NaN.\n",
    "\n",
    "df.shift(-1).tail()"
   ]
  },
  {
   "cell_type": "code",
   "execution_count": 59,
   "metadata": {},
   "outputs": [
    {
     "data": {
      "text/html": [
       "<div>\n",
       "<style scoped>\n",
       "    .dataframe tbody tr th:only-of-type {\n",
       "        vertical-align: middle;\n",
       "    }\n",
       "\n",
       "    .dataframe tbody tr th {\n",
       "        vertical-align: top;\n",
       "    }\n",
       "\n",
       "    .dataframe thead th {\n",
       "        text-align: right;\n",
       "    }\n",
       "</style>\n",
       "<table border=\"1\" class=\"dataframe\">\n",
       "  <thead>\n",
       "    <tr style=\"text-align: right;\">\n",
       "      <th></th>\n",
       "      <th>High</th>\n",
       "      <th>Low</th>\n",
       "      <th>Open</th>\n",
       "      <th>Close</th>\n",
       "      <th>Volume</th>\n",
       "      <th>Adj Close</th>\n",
       "      <th>Price_range</th>\n",
       "      <th>Price_range_diff</th>\n",
       "    </tr>\n",
       "    <tr>\n",
       "      <th>Date</th>\n",
       "      <th></th>\n",
       "      <th></th>\n",
       "      <th></th>\n",
       "      <th></th>\n",
       "      <th></th>\n",
       "      <th></th>\n",
       "      <th></th>\n",
       "      <th></th>\n",
       "    </tr>\n",
       "  </thead>\n",
       "  <tbody>\n",
       "    <tr>\n",
       "      <th>2015-02-01</th>\n",
       "      <td>47.419998</td>\n",
       "      <td>46.540001</td>\n",
       "      <td>46.660000</td>\n",
       "      <td>46.759998</td>\n",
       "      <td>27913900.0</td>\n",
       "      <td>41.647892</td>\n",
       "      <td>0.879997</td>\n",
       "      <td>NaN</td>\n",
       "    </tr>\n",
       "    <tr>\n",
       "      <th>2015-02-01</th>\n",
       "      <td>46.730000</td>\n",
       "      <td>46.250000</td>\n",
       "      <td>46.369999</td>\n",
       "      <td>46.330002</td>\n",
       "      <td>39673900.0</td>\n",
       "      <td>41.264908</td>\n",
       "      <td>0.480000</td>\n",
       "      <td>-0.399998</td>\n",
       "    </tr>\n",
       "    <tr>\n",
       "      <th>2015-02-01</th>\n",
       "      <td>46.750000</td>\n",
       "      <td>45.540001</td>\n",
       "      <td>46.380001</td>\n",
       "      <td>45.650002</td>\n",
       "      <td>36447900.0</td>\n",
       "      <td>40.659245</td>\n",
       "      <td>1.209999</td>\n",
       "      <td>0.730000</td>\n",
       "    </tr>\n",
       "    <tr>\n",
       "      <th>2015-02-01</th>\n",
       "      <td>46.459999</td>\n",
       "      <td>45.490002</td>\n",
       "      <td>45.980000</td>\n",
       "      <td>46.230000</td>\n",
       "      <td>29114100.0</td>\n",
       "      <td>41.175831</td>\n",
       "      <td>0.969997</td>\n",
       "      <td>-0.240002</td>\n",
       "    </tr>\n",
       "    <tr>\n",
       "      <th>2015-02-01</th>\n",
       "      <td>47.750000</td>\n",
       "      <td>46.720001</td>\n",
       "      <td>46.750000</td>\n",
       "      <td>47.590000</td>\n",
       "      <td>29645200.0</td>\n",
       "      <td>42.387146</td>\n",
       "      <td>1.029999</td>\n",
       "      <td>0.060001</td>\n",
       "    </tr>\n",
       "  </tbody>\n",
       "</table>\n",
       "</div>"
      ],
      "text/plain": [
       "                 High        Low       Open      Close      Volume  Adj Close  \\\n",
       "Date                                                                            \n",
       "2015-02-01  47.419998  46.540001  46.660000  46.759998  27913900.0  41.647892   \n",
       "2015-02-01  46.730000  46.250000  46.369999  46.330002  39673900.0  41.264908   \n",
       "2015-02-01  46.750000  45.540001  46.380001  45.650002  36447900.0  40.659245   \n",
       "2015-02-01  46.459999  45.490002  45.980000  46.230000  29114100.0  41.175831   \n",
       "2015-02-01  47.750000  46.720001  46.750000  47.590000  29645200.0  42.387146   \n",
       "\n",
       "            Price_range  Price_range_diff  \n",
       "Date                                       \n",
       "2015-02-01     0.879997               NaN  \n",
       "2015-02-01     0.480000         -0.399998  \n",
       "2015-02-01     1.209999          0.730000  \n",
       "2015-02-01     0.969997         -0.240002  \n",
       "2015-02-01     1.029999          0.060001  "
      ]
     },
     "execution_count": 59,
     "metadata": {},
     "output_type": "execute_result"
    }
   ],
   "source": [
    "# I can shift my index such that each observation is dated the 1st of each month.\n",
    "\n",
    "df.shift(freq='MS').head()"
   ]
  },
  {
   "cell_type": "code",
   "execution_count": 61,
   "metadata": {},
   "outputs": [
    {
     "data": {
      "text/html": [
       "<div>\n",
       "<style scoped>\n",
       "    .dataframe tbody tr th:only-of-type {\n",
       "        vertical-align: middle;\n",
       "    }\n",
       "\n",
       "    .dataframe tbody tr th {\n",
       "        vertical-align: top;\n",
       "    }\n",
       "\n",
       "    .dataframe thead th {\n",
       "        text-align: right;\n",
       "    }\n",
       "</style>\n",
       "<table border=\"1\" class=\"dataframe\">\n",
       "  <thead>\n",
       "    <tr style=\"text-align: right;\">\n",
       "      <th></th>\n",
       "      <th>High</th>\n",
       "      <th>Low</th>\n",
       "      <th>Open</th>\n",
       "      <th>Close</th>\n",
       "      <th>Volume</th>\n",
       "      <th>Adj Close</th>\n",
       "      <th>Price_range</th>\n",
       "      <th>Price_range_diff</th>\n",
       "    </tr>\n",
       "    <tr>\n",
       "      <th>Date</th>\n",
       "      <th></th>\n",
       "      <th></th>\n",
       "      <th></th>\n",
       "      <th></th>\n",
       "      <th></th>\n",
       "      <th></th>\n",
       "      <th></th>\n",
       "      <th></th>\n",
       "    </tr>\n",
       "  </thead>\n",
       "  <tbody>\n",
       "    <tr>\n",
       "      <th>2015-02-01</th>\n",
       "      <td>46.071000</td>\n",
       "      <td>45.032000</td>\n",
       "      <td>45.639000</td>\n",
       "      <td>45.514000</td>\n",
       "      <td>4.594834e+07</td>\n",
       "      <td>40.538111</td>\n",
       "      <td>1.039000</td>\n",
       "      <td>0.018421</td>\n",
       "    </tr>\n",
       "    <tr>\n",
       "      <th>2015-03-01</th>\n",
       "      <td>43.272632</td>\n",
       "      <td>42.671052</td>\n",
       "      <td>42.996843</td>\n",
       "      <td>43.078421</td>\n",
       "      <td>3.455314e+07</td>\n",
       "      <td>38.500453</td>\n",
       "      <td>0.601579</td>\n",
       "      <td>-0.036316</td>\n",
       "    </tr>\n",
       "    <tr>\n",
       "      <th>2015-04-01</th>\n",
       "      <td>42.528182</td>\n",
       "      <td>41.848182</td>\n",
       "      <td>42.140000</td>\n",
       "      <td>42.131818</td>\n",
       "      <td>3.746979e+07</td>\n",
       "      <td>37.792748</td>\n",
       "      <td>0.680000</td>\n",
       "      <td>-0.002273</td>\n",
       "    </tr>\n",
       "    <tr>\n",
       "      <th>2015-05-01</th>\n",
       "      <td>43.736667</td>\n",
       "      <td>42.870952</td>\n",
       "      <td>43.071905</td>\n",
       "      <td>43.466666</td>\n",
       "      <td>4.164454e+07</td>\n",
       "      <td>38.990124</td>\n",
       "      <td>0.865714</td>\n",
       "      <td>0.021429</td>\n",
       "    </tr>\n",
       "    <tr>\n",
       "      <th>2015-06-01</th>\n",
       "      <td>47.977000</td>\n",
       "      <td>47.185500</td>\n",
       "      <td>47.587000</td>\n",
       "      <td>47.530000</td>\n",
       "      <td>3.165364e+07</td>\n",
       "      <td>42.745161</td>\n",
       "      <td>0.791500</td>\n",
       "      <td>0.002000</td>\n",
       "    </tr>\n",
       "  </tbody>\n",
       "</table>\n",
       "</div>"
      ],
      "text/plain": [
       "                 High        Low       Open      Close        Volume  \\\n",
       "Date                                                                   \n",
       "2015-02-01  46.071000  45.032000  45.639000  45.514000  4.594834e+07   \n",
       "2015-03-01  43.272632  42.671052  42.996843  43.078421  3.455314e+07   \n",
       "2015-04-01  42.528182  41.848182  42.140000  42.131818  3.746979e+07   \n",
       "2015-05-01  43.736667  42.870952  43.071905  43.466666  4.164454e+07   \n",
       "2015-06-01  47.977000  47.185500  47.587000  47.530000  3.165364e+07   \n",
       "\n",
       "            Adj Close  Price_range  Price_range_diff  \n",
       "Date                                                  \n",
       "2015-02-01  40.538111     1.039000          0.018421  \n",
       "2015-03-01  38.500453     0.601579         -0.036316  \n",
       "2015-04-01  37.792748     0.680000         -0.002273  \n",
       "2015-05-01  38.990124     0.865714          0.021429  \n",
       "2015-06-01  42.745161     0.791500          0.002000  "
      ]
     },
     "execution_count": 61,
     "metadata": {},
     "output_type": "execute_result"
    }
   ],
   "source": [
    "# I can then groupby month and calculate the average values for each month.\n",
    "\n",
    "df.shift(freq='MS').groupby('Date').mean().head()"
   ]
  },
  {
   "cell_type": "markdown",
   "metadata": {},
   "source": [
    "___"
   ]
  },
  {
   "cell_type": "markdown",
   "metadata": {},
   "source": [
    "#### Use `df.rolling()`\n",
    "\n",
    "**Using `df.rolling()` allows you to create a moving window of time and perform some type of aggregate function on your column(s) or df.**\n",
    "\n",
    "```python\n",
    "df.rolling(\n",
    "    window,\n",
    "    min_periods=None,\n",
    "    center=False,\n",
    "    win_type=None,\n",
    "    on=None,\n",
    "    axis=0,\n",
    "    closed=None)\n",
    "```"
   ]
  },
  {
   "cell_type": "code",
   "execution_count": 23,
   "metadata": {},
   "outputs": [
    {
     "data": {
      "text/html": [
       "<div>\n",
       "<style scoped>\n",
       "    .dataframe tbody tr th:only-of-type {\n",
       "        vertical-align: middle;\n",
       "    }\n",
       "\n",
       "    .dataframe tbody tr th {\n",
       "        vertical-align: top;\n",
       "    }\n",
       "\n",
       "    .dataframe thead th {\n",
       "        text-align: right;\n",
       "    }\n",
       "</style>\n",
       "<table border=\"1\" class=\"dataframe\">\n",
       "  <thead>\n",
       "    <tr style=\"text-align: right;\">\n",
       "      <th></th>\n",
       "      <th>High</th>\n",
       "      <th>Low</th>\n",
       "      <th>Open</th>\n",
       "      <th>Close</th>\n",
       "      <th>Volume</th>\n",
       "      <th>Adj Close</th>\n",
       "      <th>Price_range</th>\n",
       "      <th>Price_range_diff</th>\n",
       "    </tr>\n",
       "    <tr>\n",
       "      <th>Date</th>\n",
       "      <th></th>\n",
       "      <th></th>\n",
       "      <th></th>\n",
       "      <th></th>\n",
       "      <th></th>\n",
       "      <th></th>\n",
       "      <th></th>\n",
       "      <th></th>\n",
       "    </tr>\n",
       "  </thead>\n",
       "  <tbody>\n",
       "    <tr>\n",
       "      <th>2015-01-02</th>\n",
       "      <td>NaN</td>\n",
       "      <td>NaN</td>\n",
       "      <td>NaN</td>\n",
       "      <td>NaN</td>\n",
       "      <td>NaN</td>\n",
       "      <td>NaN</td>\n",
       "      <td>NaN</td>\n",
       "      <td>NaN</td>\n",
       "    </tr>\n",
       "    <tr>\n",
       "      <th>2015-01-05</th>\n",
       "      <td>NaN</td>\n",
       "      <td>NaN</td>\n",
       "      <td>NaN</td>\n",
       "      <td>NaN</td>\n",
       "      <td>NaN</td>\n",
       "      <td>NaN</td>\n",
       "      <td>NaN</td>\n",
       "      <td>NaN</td>\n",
       "    </tr>\n",
       "    <tr>\n",
       "      <th>2015-01-06</th>\n",
       "      <td>NaN</td>\n",
       "      <td>NaN</td>\n",
       "      <td>NaN</td>\n",
       "      <td>NaN</td>\n",
       "      <td>NaN</td>\n",
       "      <td>NaN</td>\n",
       "      <td>NaN</td>\n",
       "      <td>NaN</td>\n",
       "    </tr>\n",
       "    <tr>\n",
       "      <th>2015-01-07</th>\n",
       "      <td>NaN</td>\n",
       "      <td>NaN</td>\n",
       "      <td>NaN</td>\n",
       "      <td>NaN</td>\n",
       "      <td>NaN</td>\n",
       "      <td>NaN</td>\n",
       "      <td>NaN</td>\n",
       "      <td>NaN</td>\n",
       "    </tr>\n",
       "    <tr>\n",
       "      <th>2015-01-08</th>\n",
       "      <td>NaN</td>\n",
       "      <td>NaN</td>\n",
       "      <td>NaN</td>\n",
       "      <td>NaN</td>\n",
       "      <td>NaN</td>\n",
       "      <td>NaN</td>\n",
       "      <td>NaN</td>\n",
       "      <td>NaN</td>\n",
       "    </tr>\n",
       "    <tr>\n",
       "      <th>2015-01-09</th>\n",
       "      <td>NaN</td>\n",
       "      <td>NaN</td>\n",
       "      <td>NaN</td>\n",
       "      <td>NaN</td>\n",
       "      <td>NaN</td>\n",
       "      <td>NaN</td>\n",
       "      <td>NaN</td>\n",
       "      <td>NaN</td>\n",
       "    </tr>\n",
       "    <tr>\n",
       "      <th>2015-01-12</th>\n",
       "      <td>47.210000</td>\n",
       "      <td>46.257144</td>\n",
       "      <td>46.738571</td>\n",
       "      <td>46.621428</td>\n",
       "      <td>3.005587e+07</td>\n",
       "      <td>41.740773</td>\n",
       "      <td>0.952856</td>\n",
       "      <td>NaN</td>\n",
       "    </tr>\n",
       "    <tr>\n",
       "      <th>2015-01-13</th>\n",
       "      <td>47.280000</td>\n",
       "      <td>46.188572</td>\n",
       "      <td>46.782857</td>\n",
       "      <td>46.564286</td>\n",
       "      <td>3.110683e+07</td>\n",
       "      <td>41.689612</td>\n",
       "      <td>1.091427</td>\n",
       "      <td>0.138572</td>\n",
       "    </tr>\n",
       "    <tr>\n",
       "      <th>2015-01-14</th>\n",
       "      <td>47.210000</td>\n",
       "      <td>46.098572</td>\n",
       "      <td>46.724286</td>\n",
       "      <td>46.511428</td>\n",
       "      <td>2.968479e+07</td>\n",
       "      <td>41.642285</td>\n",
       "      <td>1.111428</td>\n",
       "      <td>0.020000</td>\n",
       "    </tr>\n",
       "    <tr>\n",
       "      <th>2015-01-15</th>\n",
       "      <td>47.157143</td>\n",
       "      <td>46.080001</td>\n",
       "      <td>46.701429</td>\n",
       "      <td>46.487142</td>\n",
       "      <td>2.915663e+07</td>\n",
       "      <td>41.620543</td>\n",
       "      <td>1.077142</td>\n",
       "      <td>-0.034285</td>\n",
       "    </tr>\n",
       "  </tbody>\n",
       "</table>\n",
       "</div>"
      ],
      "text/plain": [
       "                 High        Low       Open      Close        Volume  \\\n",
       "Date                                                                   \n",
       "2015-01-02        NaN        NaN        NaN        NaN           NaN   \n",
       "2015-01-05        NaN        NaN        NaN        NaN           NaN   \n",
       "2015-01-06        NaN        NaN        NaN        NaN           NaN   \n",
       "2015-01-07        NaN        NaN        NaN        NaN           NaN   \n",
       "2015-01-08        NaN        NaN        NaN        NaN           NaN   \n",
       "2015-01-09        NaN        NaN        NaN        NaN           NaN   \n",
       "2015-01-12  47.210000  46.257144  46.738571  46.621428  3.005587e+07   \n",
       "2015-01-13  47.280000  46.188572  46.782857  46.564286  3.110683e+07   \n",
       "2015-01-14  47.210000  46.098572  46.724286  46.511428  2.968479e+07   \n",
       "2015-01-15  47.157143  46.080001  46.701429  46.487142  2.915663e+07   \n",
       "\n",
       "            Adj Close  Price_range  Price_range_diff  \n",
       "Date                                                  \n",
       "2015-01-02        NaN          NaN               NaN  \n",
       "2015-01-05        NaN          NaN               NaN  \n",
       "2015-01-06        NaN          NaN               NaN  \n",
       "2015-01-07        NaN          NaN               NaN  \n",
       "2015-01-08        NaN          NaN               NaN  \n",
       "2015-01-09        NaN          NaN               NaN  \n",
       "2015-01-12  41.740773     0.952856               NaN  \n",
       "2015-01-13  41.689612     1.091427          0.138572  \n",
       "2015-01-14  41.642285     1.111428          0.020000  \n",
       "2015-01-15  41.620543     1.077142         -0.034285  "
      ]
     },
     "execution_count": 23,
     "metadata": {},
     "output_type": "execute_result"
    }
   ],
   "source": [
    "# Examine a 7-day rolling average on our entire df. Notice the NaN values until observation 7.\n",
    "\n",
    "df.rolling(7).mean().head(10)"
   ]
  },
  {
   "cell_type": "code",
   "execution_count": 62,
   "metadata": {},
   "outputs": [
    {
     "data": {
      "text/html": [
       "<div>\n",
       "<style scoped>\n",
       "    .dataframe tbody tr th:only-of-type {\n",
       "        vertical-align: middle;\n",
       "    }\n",
       "\n",
       "    .dataframe tbody tr th {\n",
       "        vertical-align: top;\n",
       "    }\n",
       "\n",
       "    .dataframe thead th {\n",
       "        text-align: right;\n",
       "    }\n",
       "</style>\n",
       "<table border=\"1\" class=\"dataframe\">\n",
       "  <thead>\n",
       "    <tr style=\"text-align: right;\">\n",
       "      <th></th>\n",
       "      <th>High</th>\n",
       "      <th>Low</th>\n",
       "      <th>Open</th>\n",
       "      <th>Close</th>\n",
       "      <th>Volume</th>\n",
       "      <th>Adj Close</th>\n",
       "      <th>Price_range</th>\n",
       "      <th>Price_range_diff</th>\n",
       "      <th>Rolling_7_price_range</th>\n",
       "      <th>Rolling_30_close</th>\n",
       "    </tr>\n",
       "    <tr>\n",
       "      <th>Date</th>\n",
       "      <th></th>\n",
       "      <th></th>\n",
       "      <th></th>\n",
       "      <th></th>\n",
       "      <th></th>\n",
       "      <th></th>\n",
       "      <th></th>\n",
       "      <th></th>\n",
       "      <th></th>\n",
       "      <th></th>\n",
       "    </tr>\n",
       "  </thead>\n",
       "  <tbody>\n",
       "    <tr>\n",
       "      <th>2015-01-02</th>\n",
       "      <td>47.419998</td>\n",
       "      <td>46.540001</td>\n",
       "      <td>46.660000</td>\n",
       "      <td>46.759998</td>\n",
       "      <td>27913900.0</td>\n",
       "      <td>41.647892</td>\n",
       "      <td>0.879997</td>\n",
       "      <td>NaN</td>\n",
       "      <td>NaN</td>\n",
       "      <td>NaN</td>\n",
       "    </tr>\n",
       "    <tr>\n",
       "      <th>2015-01-05</th>\n",
       "      <td>46.730000</td>\n",
       "      <td>46.250000</td>\n",
       "      <td>46.369999</td>\n",
       "      <td>46.330002</td>\n",
       "      <td>39673900.0</td>\n",
       "      <td>41.264908</td>\n",
       "      <td>0.480000</td>\n",
       "      <td>-0.399998</td>\n",
       "      <td>NaN</td>\n",
       "      <td>NaN</td>\n",
       "    </tr>\n",
       "    <tr>\n",
       "      <th>2015-01-06</th>\n",
       "      <td>46.750000</td>\n",
       "      <td>45.540001</td>\n",
       "      <td>46.380001</td>\n",
       "      <td>45.650002</td>\n",
       "      <td>36447900.0</td>\n",
       "      <td>40.659245</td>\n",
       "      <td>1.209999</td>\n",
       "      <td>0.730000</td>\n",
       "      <td>NaN</td>\n",
       "      <td>NaN</td>\n",
       "    </tr>\n",
       "    <tr>\n",
       "      <th>2015-01-07</th>\n",
       "      <td>46.459999</td>\n",
       "      <td>45.490002</td>\n",
       "      <td>45.980000</td>\n",
       "      <td>46.230000</td>\n",
       "      <td>29114100.0</td>\n",
       "      <td>41.175831</td>\n",
       "      <td>0.969997</td>\n",
       "      <td>-0.240002</td>\n",
       "      <td>NaN</td>\n",
       "      <td>NaN</td>\n",
       "    </tr>\n",
       "    <tr>\n",
       "      <th>2015-01-08</th>\n",
       "      <td>47.750000</td>\n",
       "      <td>46.720001</td>\n",
       "      <td>46.750000</td>\n",
       "      <td>47.590000</td>\n",
       "      <td>29645200.0</td>\n",
       "      <td>42.387146</td>\n",
       "      <td>1.029999</td>\n",
       "      <td>0.060001</td>\n",
       "      <td>NaN</td>\n",
       "      <td>NaN</td>\n",
       "    </tr>\n",
       "    <tr>\n",
       "      <th>2015-01-09</th>\n",
       "      <td>47.820000</td>\n",
       "      <td>46.900002</td>\n",
       "      <td>47.610001</td>\n",
       "      <td>47.189999</td>\n",
       "      <td>23944200.0</td>\n",
       "      <td>42.030876</td>\n",
       "      <td>0.919998</td>\n",
       "      <td>-0.110001</td>\n",
       "      <td>NaN</td>\n",
       "      <td>NaN</td>\n",
       "    </tr>\n",
       "    <tr>\n",
       "      <th>2015-01-12</th>\n",
       "      <td>47.540001</td>\n",
       "      <td>46.360001</td>\n",
       "      <td>47.419998</td>\n",
       "      <td>46.599998</td>\n",
       "      <td>23651900.0</td>\n",
       "      <td>41.505379</td>\n",
       "      <td>1.180000</td>\n",
       "      <td>0.260002</td>\n",
       "      <td>0.952856</td>\n",
       "      <td>NaN</td>\n",
       "    </tr>\n",
       "  </tbody>\n",
       "</table>\n",
       "</div>"
      ],
      "text/plain": [
       "                 High        Low       Open      Close      Volume  Adj Close  \\\n",
       "Date                                                                            \n",
       "2015-01-02  47.419998  46.540001  46.660000  46.759998  27913900.0  41.647892   \n",
       "2015-01-05  46.730000  46.250000  46.369999  46.330002  39673900.0  41.264908   \n",
       "2015-01-06  46.750000  45.540001  46.380001  45.650002  36447900.0  40.659245   \n",
       "2015-01-07  46.459999  45.490002  45.980000  46.230000  29114100.0  41.175831   \n",
       "2015-01-08  47.750000  46.720001  46.750000  47.590000  29645200.0  42.387146   \n",
       "2015-01-09  47.820000  46.900002  47.610001  47.189999  23944200.0  42.030876   \n",
       "2015-01-12  47.540001  46.360001  47.419998  46.599998  23651900.0  41.505379   \n",
       "\n",
       "            Price_range  Price_range_diff  Rolling_7_price_range  \\\n",
       "Date                                                               \n",
       "2015-01-02     0.879997               NaN                    NaN   \n",
       "2015-01-05     0.480000         -0.399998                    NaN   \n",
       "2015-01-06     1.209999          0.730000                    NaN   \n",
       "2015-01-07     0.969997         -0.240002                    NaN   \n",
       "2015-01-08     1.029999          0.060001                    NaN   \n",
       "2015-01-09     0.919998         -0.110001                    NaN   \n",
       "2015-01-12     1.180000          0.260002               0.952856   \n",
       "\n",
       "            Rolling_30_close  \n",
       "Date                          \n",
       "2015-01-02               NaN  \n",
       "2015-01-05               NaN  \n",
       "2015-01-06               NaN  \n",
       "2015-01-07               NaN  \n",
       "2015-01-08               NaN  \n",
       "2015-01-09               NaN  \n",
       "2015-01-12               NaN  "
      ]
     },
     "execution_count": 62,
     "metadata": {},
     "output_type": "execute_result"
    }
   ],
   "source": [
    "# Create a column for a 7-day rolling average Price Range and and 30-day rolling average for Close\n",
    "\n",
    "df = df.assign(Rolling_7_price_range = df.Price_range.rolling(7).mean())\n",
    "df = df.assign(Rolling_30_close = df.Close.rolling(30).mean())\n",
    "df.head(7)"
   ]
  },
  {
   "cell_type": "code",
   "execution_count": 63,
   "metadata": {},
   "outputs": [
    {
     "data": {
      "image/png": "[encoded data removed]",
      "text/plain": [
       "<Figure size 792x648 with 1 Axes>"
      ]
     },
     "metadata": {
      "needs_background": "light"
     },
     "output_type": "display_data"
    }
   ],
   "source": [
    "# Plot Price_range against the 7-day rolling avg Price_range by quarter\n",
    "\n",
    "df.resample('Q').sum()[['Rolling_7_price_range', 'Price_range']].plot()\n",
    "\n",
    "plt.title('Price Range Vs. Rolling 7-Day Average of Price Range by Quarter')\n",
    "plt.xlabel('')\n",
    "plt.ylabel('US Dollars')\n",
    "\n",
    "plt.show()"
   ]
  },
  {
   "cell_type": "code",
   "execution_count": 64,
   "metadata": {},
   "outputs": [
    {
     "data": {
      "image/png": "[encoded data removed]",
      "text/plain": [
       "<Figure size 792x648 with 1 Axes>"
      ]
     },
     "metadata": {
      "needs_background": "light"
     },
     "output_type": "display_data"
    }
   ],
   "source": [
    "df[['Close', 'Rolling_30_close']].plot()\n",
    "\n",
    "plt.title('Close Price Vs. 30-day Rolling Average Close Price')\n",
    "plt.xlabel('')\n",
    "plt.ylabel('US Dollars')\n",
    "\n",
    "plt.show()"
   ]
  },
  {
   "cell_type": "markdown",
   "metadata": {},
   "source": [
    "___"
   ]
  },
  {
   "cell_type": "markdown",
   "metadata": {},
   "source": [
    "#### Use `.expand()`\n",
    "\n",
    "Using `df[col].expand()` allows me to create an exapanding window that considers all of the values that come before that point in time. Here I create an expanding window for Close price; the top right is the overall sum of the Close price for the df.\n"
   ]
  },
  {
   "cell_type": "code",
   "execution_count": 69,
   "metadata": {},
   "outputs": [
    {
     "data": {
      "image/png": "[encoded data removed]",
      "text/plain": [
       "<Figure size 792x648 with 1 Axes>"
      ]
     },
     "metadata": {
      "needs_background": "light"
     },
     "output_type": "display_data"
    }
   ],
   "source": [
    "df['Price_range'].expanding().sum().plot()\n",
    "\n",
    "plt.title('Expanding Total for Price Range')\n",
    "plt.xlabel('')\n",
    "plt.ylabel('US Dollars')\n",
    "\n",
    "plt.show()"
   ]
  },
  {
   "cell_type": "code",
   "execution_count": null,
   "metadata": {},
   "outputs": [],
   "source": []
  }
 ],
 "metadata": {
  "kernelspec": {
   "display_name": "Python 3",
   "language": "python",
   "name": "python3"
  },
  "language_info": {
   "codemirror_mode": {
    "name": "ipython",
    "version": 3
   },
   "file_extension": ".py",
   "mimetype": "text/x-python",
   "name": "python",
   "nbconvert_exporter": "python",
   "pygments_lexer": "ipython3",
   "version": "3.7.4"
  },
  "toc": {
   "base_numbering": 1,
   "nav_menu": {},
   "number_sections": true,
   "sideBar": true,
   "skip_h1_title": true,
   "title_cell": "Table of Contents",
   "title_sidebar": "Contents",
   "toc_cell": true,
   "toc_position": {},
   "toc_section_display": true,
   "toc_window_display": true
  },
  "toc-autonumbering": false,
  "toc-showtags": false
 },
 "nbformat": 4,
 "nbformat_minor": 4
}
